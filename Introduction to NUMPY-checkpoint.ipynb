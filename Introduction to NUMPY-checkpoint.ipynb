{
 "cells": [
  {
   "cell_type": "code",
   "execution_count": 3,
   "id": "2a81add0",
   "metadata": {},
   "outputs": [],
   "source": [
    "import numpy as np\n",
    "#numeric = num\n",
    "#python = py"
   ]
  },
  {
   "cell_type": "code",
   "execution_count": 4,
   "id": "9f04990a",
   "metadata": {},
   "outputs": [],
   "source": [
    "import array"
   ]
  },
  {
   "cell_type": "code",
   "execution_count": 3,
   "id": "3c575677",
   "metadata": {},
   "outputs": [
    {
     "data": {
      "text/plain": [
       "array([1, 2, 3, 4, 5, 6, 7])"
      ]
     },
     "execution_count": 3,
     "metadata": {},
     "output_type": "execute_result"
    }
   ],
   "source": [
    "np.array([1,2,3,4,5,6,7])"
   ]
  },
  {
   "cell_type": "code",
   "execution_count": 4,
   "id": "88837a18",
   "metadata": {},
   "outputs": [
    {
     "data": {
      "text/plain": [
       "numpy.ndarray"
      ]
     },
     "execution_count": 4,
     "metadata": {},
     "output_type": "execute_result"
    }
   ],
   "source": [
    "type(np.array([1,2,3,4,5,6,7]))"
   ]
  },
  {
   "cell_type": "code",
   "execution_count": 5,
   "id": "6f09fea7",
   "metadata": {},
   "outputs": [],
   "source": [
    "#nd = n dimensional"
   ]
  },
  {
   "cell_type": "code",
   "execution_count": 6,
   "id": "b2c35be5",
   "metadata": {},
   "outputs": [
    {
     "data": {
      "text/plain": [
       "array(['1', '2', '3', '5', 'syed', '(4+8j)'], dtype='<U64')"
      ]
     },
     "execution_count": 6,
     "metadata": {},
     "output_type": "execute_result"
    }
   ],
   "source": [
    "np.array([1,2,3,5,\"syed\",4+8j,])"
   ]
  },
  {
   "cell_type": "code",
   "execution_count": 8,
   "id": "333d04ab",
   "metadata": {},
   "outputs": [],
   "source": [
    "#typecasting,u<64 = bit"
   ]
  },
  {
   "cell_type": "code",
   "execution_count": 7,
   "id": "51486ae0",
   "metadata": {},
   "outputs": [
    {
     "data": {
      "text/plain": [
       "array([1. , 2. , 3. , 4.2, 5. ])"
      ]
     },
     "execution_count": 7,
     "metadata": {},
     "output_type": "execute_result"
    }
   ],
   "source": [
    "np.array([1,2,3,4.2,5.0])"
   ]
  },
  {
   "cell_type": "code",
   "execution_count": 9,
   "id": "3bf552a3",
   "metadata": {},
   "outputs": [
    {
     "data": {
      "text/plain": [
       "array([[1, 2],\n",
       "       [3, 5]])"
      ]
     },
     "execution_count": 9,
     "metadata": {},
     "output_type": "execute_result"
    }
   ],
   "source": [
    "np.array([[1,2],[3,5]])"
   ]
  },
  {
   "cell_type": "code",
   "execution_count": 10,
   "id": "2f2bbe99",
   "metadata": {},
   "outputs": [
    {
     "data": {
      "text/plain": [
       "array([[1, 2],\n",
       "       [3, 5],\n",
       "       [4, 6]])"
      ]
     },
     "execution_count": 10,
     "metadata": {},
     "output_type": "execute_result"
    }
   ],
   "source": [
    "np.array([[1,2],[3,5],[4,6]])"
   ]
  },
  {
   "cell_type": "code",
   "execution_count": 11,
   "id": "38c5afd9",
   "metadata": {},
   "outputs": [
    {
     "name": "stderr",
     "output_type": "stream",
     "text": [
      "C:\\Users\\syedf\\AppData\\Local\\Temp/ipykernel_10276/3832920345.py:1: VisibleDeprecationWarning: Creating an ndarray from ragged nested sequences (which is a list-or-tuple of lists-or-tuples-or ndarrays with different lengths or shapes) is deprecated. If you meant to do this, you must specify 'dtype=object' when creating the ndarray.\n",
      "  np.array([[1,2],[3,5],[6,4,8]])\n"
     ]
    },
    {
     "data": {
      "text/plain": [
       "array([list([1, 2]), list([3, 5]), list([6, 4, 8])], dtype=object)"
      ]
     },
     "execution_count": 11,
     "metadata": {},
     "output_type": "execute_result"
    }
   ],
   "source": [
    "np.array([[1,2],[3,5],[6,4,8]])"
   ]
  },
  {
   "cell_type": "code",
   "execution_count": 12,
   "id": "b18c9526",
   "metadata": {},
   "outputs": [
    {
     "data": {
      "text/plain": [
       "array([[[1, 2],\n",
       "        [3, 5]]])"
      ]
     },
     "execution_count": 12,
     "metadata": {},
     "output_type": "execute_result"
    }
   ],
   "source": [
    "np.array([[[1,2],[3,5]]])"
   ]
  },
  {
   "cell_type": "code",
   "execution_count": 13,
   "id": "4d919f46",
   "metadata": {},
   "outputs": [
    {
     "data": {
      "text/plain": [
       "array([[[1, 2],\n",
       "        [3, 5]],\n",
       "\n",
       "       [[1, 2],\n",
       "        [3, 5]]])"
      ]
     },
     "execution_count": 13,
     "metadata": {},
     "output_type": "execute_result"
    }
   ],
   "source": [
    "np.array([[[1,2],[3,5]],[[1,2],[3,5]]])"
   ]
  },
  {
   "cell_type": "code",
   "execution_count": 14,
   "id": "7aee3779",
   "metadata": {},
   "outputs": [],
   "source": [
    "# 1d array = []\n",
    "# 2d array = [[]]\n",
    "# 3d array = [[[]]]"
   ]
  },
  {
   "cell_type": "code",
   "execution_count": 15,
   "id": "8a6433a6",
   "metadata": {},
   "outputs": [
    {
     "data": {
      "text/plain": [
       "array([[[1, 2, 5]]])"
      ]
     },
     "execution_count": 15,
     "metadata": {},
     "output_type": "execute_result"
    }
   ],
   "source": [
    "np.array([1,2,5] , ndmin = 3)"
   ]
  },
  {
   "cell_type": "code",
   "execution_count": 16,
   "id": "477f1e10",
   "metadata": {},
   "outputs": [
    {
     "data": {
      "text/plain": [
       "array([[1, 2, 5]])"
      ]
     },
     "execution_count": 16,
     "metadata": {},
     "output_type": "execute_result"
    }
   ],
   "source": [
    "np.array([1,2,5] , ndmin = 2)"
   ]
  },
  {
   "cell_type": "code",
   "execution_count": 17,
   "id": "b1231e39",
   "metadata": {},
   "outputs": [
    {
     "data": {
      "text/plain": [
       "array([[[[[1, 2, 5]]]]])"
      ]
     },
     "execution_count": 17,
     "metadata": {},
     "output_type": "execute_result"
    }
   ],
   "source": [
    "np.array([1,2,5] , ndmin = 5)"
   ]
  },
  {
   "cell_type": "code",
   "execution_count": 18,
   "id": "62981aee",
   "metadata": {},
   "outputs": [
    {
     "data": {
      "text/plain": [
       "array([[[[[[[[[[[[[[[[[[[[[[[[[[[[[[1, 2, 5]]]]]]]]]]]]]]]]]]]]]]]]]]]]]])"
      ]
     },
     "execution_count": 18,
     "metadata": {},
     "output_type": "execute_result"
    }
   ],
   "source": [
    "np.array([1,2,5] , ndmin = 30)"
   ]
  },
  {
   "cell_type": "code",
   "execution_count": 19,
   "id": "2de3cffe",
   "metadata": {},
   "outputs": [
    {
     "data": {
      "text/plain": [
       "array([1.+0.j, 2.+0.j, 5.+0.j])"
      ]
     },
     "execution_count": 19,
     "metadata": {},
     "output_type": "execute_result"
    }
   ],
   "source": [
    "np.array([1,2,5] , dtype = complex)"
   ]
  },
  {
   "cell_type": "raw",
   "id": "a1513c65",
   "metadata": {},
   "source": [
    "np.array([(1,2) , (3,4)])"
   ]
  },
  {
   "cell_type": "code",
   "execution_count": 20,
   "id": "4be0d280",
   "metadata": {},
   "outputs": [
    {
     "data": {
      "text/plain": [
       "array([[1, 2],\n",
       "       [3, 4]])"
      ]
     },
     "execution_count": 20,
     "metadata": {},
     "output_type": "execute_result"
    }
   ],
   "source": [
    "np.array([(1,2) , (3,4)])"
   ]
  },
  {
   "cell_type": "code",
   "execution_count": 21,
   "id": "1f6a8622",
   "metadata": {},
   "outputs": [
    {
     "data": {
      "text/plain": [
       "array([(1, 3), (4, 2)], dtype=[('a', '<i2'), ('b', '<i8')])"
      ]
     },
     "execution_count": 21,
     "metadata": {},
     "output_type": "execute_result"
    }
   ],
   "source": [
    "np.array([(1,3),(4,2)],dtype = [(\"a\", '<i2'),(\"b\",'<i8')])"
   ]
  },
  {
   "cell_type": "code",
   "execution_count": 22,
   "id": "65398f51",
   "metadata": {},
   "outputs": [],
   "source": [
    "arr = np.array([(1,3),(4,2)],dtype = [(\"a\", '<i2'),(\"b\",'<i8')])"
   ]
  },
  {
   "cell_type": "code",
   "execution_count": 23,
   "id": "ac8320e8",
   "metadata": {},
   "outputs": [
    {
     "data": {
      "text/plain": [
       "(1, 3)"
      ]
     },
     "execution_count": 23,
     "metadata": {},
     "output_type": "execute_result"
    }
   ],
   "source": [
    "arr[0]"
   ]
  },
  {
   "cell_type": "code",
   "execution_count": 24,
   "id": "4637eb3f",
   "metadata": {},
   "outputs": [
    {
     "data": {
      "text/plain": [
       "1"
      ]
     },
     "execution_count": 24,
     "metadata": {},
     "output_type": "execute_result"
    }
   ],
   "source": [
    "arr[0][0]"
   ]
  },
  {
   "cell_type": "code",
   "execution_count": 25,
   "id": "70f02d8e",
   "metadata": {},
   "outputs": [
    {
     "data": {
      "text/plain": [
       "numpy.int16"
      ]
     },
     "execution_count": 25,
     "metadata": {},
     "output_type": "execute_result"
    }
   ],
   "source": [
    "type(arr[0][0])"
   ]
  },
  {
   "cell_type": "code",
   "execution_count": 26,
   "id": "70d230a4",
   "metadata": {},
   "outputs": [
    {
     "data": {
      "text/plain": [
       "3"
      ]
     },
     "execution_count": 26,
     "metadata": {},
     "output_type": "execute_result"
    }
   ],
   "source": [
    "arr[0][1]"
   ]
  },
  {
   "cell_type": "code",
   "execution_count": 27,
   "id": "1f23c5c0",
   "metadata": {},
   "outputs": [
    {
     "data": {
      "text/plain": [
       "numpy.int64"
      ]
     },
     "execution_count": 27,
     "metadata": {},
     "output_type": "execute_result"
    }
   ],
   "source": [
    "type(arr[0][1])"
   ]
  },
  {
   "cell_type": "code",
   "execution_count": 28,
   "id": "af74a913",
   "metadata": {},
   "outputs": [
    {
     "data": {
      "text/plain": [
       "array([(1, 3), (4, 2)], dtype=[('a', '<i2'), ('b', '<i8')])"
      ]
     },
     "execution_count": 28,
     "metadata": {},
     "output_type": "execute_result"
    }
   ],
   "source": [
    "arr"
   ]
  },
  {
   "cell_type": "code",
   "execution_count": 29,
   "id": "e641b246",
   "metadata": {},
   "outputs": [],
   "source": [
    "arr = np.array([[1,3],[4,2]])"
   ]
  },
  {
   "cell_type": "code",
   "execution_count": 30,
   "id": "e82e7bc3",
   "metadata": {},
   "outputs": [
    {
     "data": {
      "text/plain": [
       "array([[1, 3],\n",
       "       [4, 2]])"
      ]
     },
     "execution_count": 30,
     "metadata": {},
     "output_type": "execute_result"
    }
   ],
   "source": [
    "arr"
   ]
  },
  {
   "cell_type": "code",
   "execution_count": 31,
   "id": "ee8d2a87",
   "metadata": {},
   "outputs": [
    {
     "data": {
      "text/plain": [
       "array([1, 3])"
      ]
     },
     "execution_count": 31,
     "metadata": {},
     "output_type": "execute_result"
    }
   ],
   "source": [
    "arr[0]"
   ]
  },
  {
   "cell_type": "code",
   "execution_count": 32,
   "id": "0a03a03d",
   "metadata": {},
   "outputs": [
    {
     "data": {
      "text/plain": [
       "3"
      ]
     },
     "execution_count": 32,
     "metadata": {},
     "output_type": "execute_result"
    }
   ],
   "source": [
    "arr[0][1]"
   ]
  },
  {
   "cell_type": "code",
   "execution_count": 33,
   "id": "62d29eaf",
   "metadata": {},
   "outputs": [
    {
     "data": {
      "text/plain": [
       "array([4, 2])"
      ]
     },
     "execution_count": 33,
     "metadata": {},
     "output_type": "execute_result"
    }
   ],
   "source": [
    "arr[1]"
   ]
  },
  {
   "cell_type": "code",
   "execution_count": 34,
   "id": "da43855c",
   "metadata": {},
   "outputs": [
    {
     "data": {
      "text/plain": [
       "2"
      ]
     },
     "execution_count": 34,
     "metadata": {},
     "output_type": "execute_result"
    }
   ],
   "source": [
    "arr[1][1]"
   ]
  },
  {
   "cell_type": "code",
   "execution_count": 35,
   "id": "311094d2",
   "metadata": {},
   "outputs": [
    {
     "data": {
      "text/plain": [
       "numpy.int32"
      ]
     },
     "execution_count": 35,
     "metadata": {},
     "output_type": "execute_result"
    }
   ],
   "source": [
    "type(arr[0][1])"
   ]
  },
  {
   "cell_type": "code",
   "execution_count": 37,
   "id": "ede6d546",
   "metadata": {},
   "outputs": [],
   "source": [
    "# there are 2 types of datatype in numpy\n",
    "# 1.array\n",
    "# 2.matrix"
   ]
  },
  {
   "cell_type": "code",
   "execution_count": 38,
   "id": "3ae8984a",
   "metadata": {},
   "outputs": [
    {
     "data": {
      "text/plain": [
       "matrix([[1, 3],\n",
       "        [4, 2]])"
      ]
     },
     "execution_count": 38,
     "metadata": {},
     "output_type": "execute_result"
    }
   ],
   "source": [
    "np.mat(arr)"
   ]
  },
  {
   "cell_type": "code",
   "execution_count": 39,
   "id": "b50beeb8",
   "metadata": {},
   "outputs": [
    {
     "data": {
      "text/plain": [
       "matrix([[1, 3],\n",
       "        [4, 2]])"
      ]
     },
     "execution_count": 39,
     "metadata": {},
     "output_type": "execute_result"
    }
   ],
   "source": [
    "np.matrix(arr)"
   ]
  },
  {
   "cell_type": "code",
   "execution_count": 40,
   "id": "4b0dca9c",
   "metadata": {},
   "outputs": [],
   "source": [
    "l = [3,6,4,5,8,5,1]"
   ]
  },
  {
   "cell_type": "code",
   "execution_count": 42,
   "id": "9f4f8939",
   "metadata": {},
   "outputs": [
    {
     "data": {
      "text/plain": [
       "array([3, 6, 4, 5, 8, 5, 1])"
      ]
     },
     "execution_count": 42,
     "metadata": {},
     "output_type": "execute_result"
    }
   ],
   "source": [
    "np.array(l)"
   ]
  },
  {
   "cell_type": "code",
   "execution_count": 43,
   "id": "2df49287",
   "metadata": {},
   "outputs": [
    {
     "data": {
      "text/plain": [
       "array([3, 6, 4, 5, 8, 5, 1])"
      ]
     },
     "execution_count": 43,
     "metadata": {},
     "output_type": "execute_result"
    }
   ],
   "source": [
    "np.asarray(l)"
   ]
  },
  {
   "cell_type": "code",
   "execution_count": 44,
   "id": "9b18c66c",
   "metadata": {},
   "outputs": [
    {
     "data": {
      "text/plain": [
       "array([3, 6, 4, 5, 8, 5, 1])"
      ]
     },
     "execution_count": 44,
     "metadata": {},
     "output_type": "execute_result"
    }
   ],
   "source": [
    "np.asanyarray(l)"
   ]
  },
  {
   "cell_type": "code",
   "execution_count": 45,
   "id": "206ffdf0",
   "metadata": {},
   "outputs": [],
   "source": [
    "mat = np.matrix(arr)"
   ]
  },
  {
   "cell_type": "code",
   "execution_count": 46,
   "id": "cb1b3a3f",
   "metadata": {},
   "outputs": [
    {
     "data": {
      "text/plain": [
       "matrix([[1, 3],\n",
       "        [4, 2]])"
      ]
     },
     "execution_count": 46,
     "metadata": {},
     "output_type": "execute_result"
    }
   ],
   "source": [
    "mat"
   ]
  },
  {
   "cell_type": "code",
   "execution_count": 47,
   "id": "20430568",
   "metadata": {},
   "outputs": [
    {
     "data": {
      "text/plain": [
       "matrix([[1, 3],\n",
       "        [4, 2]])"
      ]
     },
     "execution_count": 47,
     "metadata": {},
     "output_type": "execute_result"
    }
   ],
   "source": [
    "np.asanyarray(mat)"
   ]
  },
  {
   "cell_type": "code",
   "execution_count": 48,
   "id": "25a99d57",
   "metadata": {},
   "outputs": [
    {
     "data": {
      "text/plain": [
       "array([[1, 3],\n",
       "       [4, 2]])"
      ]
     },
     "execution_count": 48,
     "metadata": {},
     "output_type": "execute_result"
    }
   ],
   "source": [
    "np.asarray(mat)"
   ]
  },
  {
   "cell_type": "code",
   "execution_count": 49,
   "id": "7834ae99",
   "metadata": {},
   "outputs": [
    {
     "data": {
      "text/plain": [
       "True"
      ]
     },
     "execution_count": 49,
     "metadata": {},
     "output_type": "execute_result"
    }
   ],
   "source": [
    "issubclass(np.matrix , np.ndarray)"
   ]
  },
  {
   "cell_type": "code",
   "execution_count": 50,
   "id": "6a75cce7",
   "metadata": {},
   "outputs": [
    {
     "data": {
      "text/plain": [
       "False"
      ]
     },
     "execution_count": 50,
     "metadata": {},
     "output_type": "execute_result"
    }
   ],
   "source": [
    "issubclass(np.ndarray , np.matrix)"
   ]
  },
  {
   "cell_type": "code",
   "execution_count": 51,
   "id": "55ae2b7a",
   "metadata": {},
   "outputs": [
    {
     "data": {
      "text/plain": [
       "array([[1, 3],\n",
       "       [4, 2]])"
      ]
     },
     "execution_count": 51,
     "metadata": {},
     "output_type": "execute_result"
    }
   ],
   "source": [
    "arr"
   ]
  },
  {
   "cell_type": "code",
   "execution_count": 52,
   "id": "bda79f72",
   "metadata": {},
   "outputs": [],
   "source": [
    "a = arr"
   ]
  },
  {
   "cell_type": "code",
   "execution_count": 53,
   "id": "d36bdf1c",
   "metadata": {},
   "outputs": [],
   "source": [
    "b = np.copy(arr)"
   ]
  },
  {
   "cell_type": "code",
   "execution_count": 54,
   "id": "85d7e9b4",
   "metadata": {},
   "outputs": [],
   "source": [
    "arr[0][0] = 54"
   ]
  },
  {
   "cell_type": "code",
   "execution_count": 55,
   "id": "d941f79e",
   "metadata": {},
   "outputs": [
    {
     "data": {
      "text/plain": [
       "array([[54,  3],\n",
       "       [ 4,  2]])"
      ]
     },
     "execution_count": 55,
     "metadata": {},
     "output_type": "execute_result"
    }
   ],
   "source": [
    "arr"
   ]
  },
  {
   "cell_type": "code",
   "execution_count": 56,
   "id": "3e7e2700",
   "metadata": {},
   "outputs": [
    {
     "data": {
      "text/plain": [
       "array([[54,  3],\n",
       "       [ 4,  2]])"
      ]
     },
     "execution_count": 56,
     "metadata": {},
     "output_type": "execute_result"
    }
   ],
   "source": [
    "a"
   ]
  },
  {
   "cell_type": "code",
   "execution_count": 57,
   "id": "039eca00",
   "metadata": {},
   "outputs": [
    {
     "data": {
      "text/plain": [
       "array([[1, 3],\n",
       "       [4, 2]])"
      ]
     },
     "execution_count": 57,
     "metadata": {},
     "output_type": "execute_result"
    }
   ],
   "source": [
    "b"
   ]
  },
  {
   "cell_type": "code",
   "execution_count": 62,
   "id": "4819b245",
   "metadata": {},
   "outputs": [],
   "source": [
    "# array is mutable\n",
    "# a is shallow copy\n",
    "# b is deep copy"
   ]
  },
  {
   "cell_type": "code",
   "execution_count": 63,
   "id": "dd941be3",
   "metadata": {},
   "outputs": [
    {
     "data": {
      "text/plain": [
       "array([[54,  3],\n",
       "       [ 4,  2]])"
      ]
     },
     "execution_count": 63,
     "metadata": {},
     "output_type": "execute_result"
    }
   ],
   "source": [
    "arr[0:10]"
   ]
  },
  {
   "cell_type": "code",
   "execution_count": 64,
   "id": "7e4504ce",
   "metadata": {},
   "outputs": [
    {
     "data": {
      "text/plain": [
       "array([4, 2])"
      ]
     },
     "execution_count": 64,
     "metadata": {},
     "output_type": "execute_result"
    }
   ],
   "source": [
    "arr[-1]"
   ]
  },
  {
   "cell_type": "code",
   "execution_count": 65,
   "id": "9b22c9a1",
   "metadata": {},
   "outputs": [
    {
     "name": "stdout",
     "output_type": "stream",
     "text": [
      "[54  3]\n",
      "[4 2]\n"
     ]
    }
   ],
   "source": [
    "for i in arr:\n",
    "    print(i)"
   ]
  },
  {
   "cell_type": "code",
   "execution_count": 66,
   "id": "9b8536c1",
   "metadata": {},
   "outputs": [
    {
     "data": {
      "text/plain": [
       "array([[ True, False, False, False],\n",
       "       [False,  True, False, False],\n",
       "       [False, False,  True, False],\n",
       "       [False, False, False,  True]])"
      ]
     },
     "execution_count": 66,
     "metadata": {},
     "output_type": "execute_result"
    }
   ],
   "source": [
    "np.fromfunction(lambda i , j : i == j,(4,4))"
   ]
  },
  {
   "cell_type": "code",
   "execution_count": 67,
   "id": "4de9fa89",
   "metadata": {},
   "outputs": [
    {
     "data": {
      "text/plain": [
       "numpy.ndarray"
      ]
     },
     "execution_count": 67,
     "metadata": {},
     "output_type": "execute_result"
    }
   ],
   "source": [
    "type(np.fromfunction(lambda i , j : i == j,(4,4)))"
   ]
  },
  {
   "cell_type": "code",
   "execution_count": 68,
   "id": "c22552d8",
   "metadata": {},
   "outputs": [
    {
     "data": {
      "text/plain": [
       "array([[0., 0., 0., 0.],\n",
       "       [0., 1., 2., 3.],\n",
       "       [0., 2., 4., 6.],\n",
       "       [0., 3., 6., 9.]])"
      ]
     },
     "execution_count": 68,
     "metadata": {},
     "output_type": "execute_result"
    }
   ],
   "source": [
    "np.fromfunction(lambda i , j : i * j,(4,4))"
   ]
  },
  {
   "cell_type": "code",
   "execution_count": 70,
   "id": "fcf06399",
   "metadata": {},
   "outputs": [
    {
     "data": {
      "text/plain": [
       "array([[0., 0., 0.],\n",
       "       [0., 1., 2.],\n",
       "       [0., 2., 4.]])"
      ]
     },
     "execution_count": 70,
     "metadata": {},
     "output_type": "execute_result"
    }
   ],
   "source": [
    "np.fromfunction(lambda i , j : i *j,(3,3))"
   ]
  },
  {
   "cell_type": "code",
   "execution_count": 71,
   "id": "e97075e8",
   "metadata": {},
   "outputs": [
    {
     "data": {
      "text/plain": [
       "array([[ 1.,  0.,  0.,  0.],\n",
       "       [ 1.,  1.,  1.,  1.],\n",
       "       [ 1.,  2.,  4.,  8.],\n",
       "       [ 1.,  3.,  9., 27.]])"
      ]
     },
     "execution_count": 71,
     "metadata": {},
     "output_type": "execute_result"
    }
   ],
   "source": [
    "np.fromfunction(lambda i , j : i ** j,(4,4))"
   ]
  },
  {
   "cell_type": "code",
   "execution_count": 72,
   "id": "3a22fccb",
   "metadata": {},
   "outputs": [
    {
     "name": "stderr",
     "output_type": "stream",
     "text": [
      "C:\\Users\\syedf\\AppData\\Local\\Temp/ipykernel_10276/680902268.py:1: RuntimeWarning: divide by zero encountered in true_divide\n",
      "  np.fromfunction(lambda i , j : i / j,(4,4))\n",
      "C:\\Users\\syedf\\AppData\\Local\\Temp/ipykernel_10276/680902268.py:1: RuntimeWarning: invalid value encountered in true_divide\n",
      "  np.fromfunction(lambda i , j : i / j,(4,4))\n"
     ]
    },
    {
     "data": {
      "text/plain": [
       "array([[       nan, 0.        , 0.        , 0.        ],\n",
       "       [       inf, 1.        , 0.5       , 0.33333333],\n",
       "       [       inf, 2.        , 1.        , 0.66666667],\n",
       "       [       inf, 3.        , 1.5       , 1.        ]])"
      ]
     },
     "execution_count": 72,
     "metadata": {},
     "output_type": "execute_result"
    }
   ],
   "source": [
    "np.fromfunction(lambda i , j : i / j,(4,4))"
   ]
  },
  {
   "cell_type": "code",
   "execution_count": 73,
   "id": "3b1721b3",
   "metadata": {},
   "outputs": [
    {
     "name": "stderr",
     "output_type": "stream",
     "text": [
      "C:\\Users\\syedf\\AppData\\Local\\Temp/ipykernel_10276/2454625013.py:1: RuntimeWarning: divide by zero encountered in true_divide\n",
      "  np.fromfunction(lambda i , j : i / j,(3,3))\n",
      "C:\\Users\\syedf\\AppData\\Local\\Temp/ipykernel_10276/2454625013.py:1: RuntimeWarning: invalid value encountered in true_divide\n",
      "  np.fromfunction(lambda i , j : i / j,(3,3))\n"
     ]
    },
    {
     "data": {
      "text/plain": [
       "array([[nan, 0. , 0. ],\n",
       "       [inf, 1. , 0.5],\n",
       "       [inf, 2. , 1. ]])"
      ]
     },
     "execution_count": 73,
     "metadata": {},
     "output_type": "execute_result"
    }
   ],
   "source": [
    "np.fromfunction(lambda i , j : i / j,(3,3))"
   ]
  },
  {
   "cell_type": "code",
   "execution_count": 74,
   "id": "605c0f65",
   "metadata": {},
   "outputs": [
    {
     "ename": "ZeroDivisionError",
     "evalue": "division by zero",
     "output_type": "error",
     "traceback": [
      "\u001b[1;31m---------------------------------------------------------------------------\u001b[0m",
      "\u001b[1;31mZeroDivisionError\u001b[0m                         Traceback (most recent call last)",
      "\u001b[1;32m~\\AppData\\Local\\Temp/ipykernel_10276/182040962.py\u001b[0m in \u001b[0;36m<module>\u001b[1;34m\u001b[0m\n\u001b[1;32m----> 1\u001b[1;33m \u001b[1;36m0\u001b[0m\u001b[1;33m/\u001b[0m\u001b[1;36m0\u001b[0m\u001b[1;33m\u001b[0m\u001b[1;33m\u001b[0m\u001b[0m\n\u001b[0m",
      "\u001b[1;31mZeroDivisionError\u001b[0m: division by zero"
     ]
    }
   ],
   "source": [
    "0/0"
   ]
  },
  {
   "cell_type": "code",
   "execution_count": 75,
   "id": "b48df18e",
   "metadata": {},
   "outputs": [
    {
     "ename": "ZeroDivisionError",
     "evalue": "division by zero",
     "output_type": "error",
     "traceback": [
      "\u001b[1;31m---------------------------------------------------------------------------\u001b[0m",
      "\u001b[1;31mZeroDivisionError\u001b[0m                         Traceback (most recent call last)",
      "\u001b[1;32m~\\AppData\\Local\\Temp/ipykernel_10276/2354412189.py\u001b[0m in \u001b[0;36m<module>\u001b[1;34m\u001b[0m\n\u001b[1;32m----> 1\u001b[1;33m \u001b[1;36m1\u001b[0m\u001b[1;33m/\u001b[0m\u001b[1;36m0\u001b[0m\u001b[1;33m\u001b[0m\u001b[1;33m\u001b[0m\u001b[0m\n\u001b[0m",
      "\u001b[1;31mZeroDivisionError\u001b[0m: division by zero"
     ]
    }
   ],
   "source": [
    "1/0"
   ]
  },
  {
   "cell_type": "code",
   "execution_count": 76,
   "id": "ac2a5263",
   "metadata": {},
   "outputs": [
    {
     "data": {
      "text/plain": [
       "<generator object <genexpr> at 0x0000026652807120>"
      ]
     },
     "execution_count": 76,
     "metadata": {},
     "output_type": "execute_result"
    }
   ],
   "source": [
    "(i*i for i in range(5))"
   ]
  },
  {
   "cell_type": "code",
   "execution_count": 77,
   "id": "4f7e3430",
   "metadata": {},
   "outputs": [
    {
     "data": {
      "text/plain": [
       "[0, 1, 4, 9, 16]"
      ]
     },
     "execution_count": 77,
     "metadata": {},
     "output_type": "execute_result"
    }
   ],
   "source": [
    "[i*i for i in range(5)]"
   ]
  },
  {
   "cell_type": "code",
   "execution_count": 78,
   "id": "ae840f5e",
   "metadata": {},
   "outputs": [],
   "source": [
    "def test(x):\n",
    "    yield x"
   ]
  },
  {
   "cell_type": "code",
   "execution_count": 79,
   "id": "3e56fbbc",
   "metadata": {},
   "outputs": [
    {
     "data": {
      "text/plain": [
       "<generator object test at 0x0000026652807EB0>"
      ]
     },
     "execution_count": 79,
     "metadata": {},
     "output_type": "execute_result"
    }
   ],
   "source": [
    "test(5)"
   ]
  },
  {
   "cell_type": "code",
   "execution_count": 80,
   "id": "174efe9e",
   "metadata": {},
   "outputs": [
    {
     "ename": "TypeError",
     "evalue": "'function' object is not subscriptable",
     "output_type": "error",
     "traceback": [
      "\u001b[1;31m---------------------------------------------------------------------------\u001b[0m",
      "\u001b[1;31mTypeError\u001b[0m                                 Traceback (most recent call last)",
      "\u001b[1;32m~\\AppData\\Local\\Temp/ipykernel_10276/2696431701.py\u001b[0m in \u001b[0;36m<module>\u001b[1;34m\u001b[0m\n\u001b[1;32m----> 1\u001b[1;33m \u001b[0mtest\u001b[0m\u001b[1;33m[\u001b[0m\u001b[1;36m5\u001b[0m\u001b[1;33m]\u001b[0m\u001b[1;33m\u001b[0m\u001b[1;33m\u001b[0m\u001b[0m\n\u001b[0m",
      "\u001b[1;31mTypeError\u001b[0m: 'function' object is not subscriptable"
     ]
    }
   ],
   "source": [
    "test[5]"
   ]
  },
  {
   "cell_type": "code",
   "execution_count": 81,
   "id": "86b6b10d",
   "metadata": {},
   "outputs": [
    {
     "data": {
      "text/plain": [
       "[<generator object test at 0x00000266528282E0>]"
      ]
     },
     "execution_count": 81,
     "metadata": {},
     "output_type": "execute_result"
    }
   ],
   "source": [
    "[test(5)]"
   ]
  },
  {
   "cell_type": "code",
   "execution_count": 83,
   "id": "03f811d7",
   "metadata": {},
   "outputs": [],
   "source": [
    "gen = (i*i for i in range(5))"
   ]
  },
  {
   "cell_type": "code",
   "execution_count": 84,
   "id": "854a1ecc",
   "metadata": {},
   "outputs": [
    {
     "ename": "TypeError",
     "evalue": "fromiter() missing required argument 'dtype' (pos 2)",
     "output_type": "error",
     "traceback": [
      "\u001b[1;31m---------------------------------------------------------------------------\u001b[0m",
      "\u001b[1;31mTypeError\u001b[0m                                 Traceback (most recent call last)",
      "\u001b[1;32m~\\AppData\\Local\\Temp/ipykernel_10276/2597438370.py\u001b[0m in \u001b[0;36m<module>\u001b[1;34m\u001b[0m\n\u001b[1;32m----> 1\u001b[1;33m \u001b[0mnp\u001b[0m\u001b[1;33m.\u001b[0m\u001b[0mfromiter\u001b[0m\u001b[1;33m(\u001b[0m\u001b[0mgen\u001b[0m\u001b[1;33m)\u001b[0m\u001b[1;33m\u001b[0m\u001b[1;33m\u001b[0m\u001b[0m\n\u001b[0m",
      "\u001b[1;31mTypeError\u001b[0m: fromiter() missing required argument 'dtype' (pos 2)"
     ]
    }
   ],
   "source": [
    "np.fromiter(gen)"
   ]
  },
  {
   "cell_type": "code",
   "execution_count": 85,
   "id": "eca474d4",
   "metadata": {},
   "outputs": [
    {
     "data": {
      "text/plain": [
       "array([ 0,  1,  4,  9, 16])"
      ]
     },
     "execution_count": 85,
     "metadata": {},
     "output_type": "execute_result"
    }
   ],
   "source": [
    "np.fromiter(gen,dtype=int)"
   ]
  },
  {
   "cell_type": "code",
   "execution_count": 86,
   "id": "26b2ab2a",
   "metadata": {},
   "outputs": [
    {
     "data": {
      "text/plain": [
       "array([0, 1, 2, 3, 4])"
      ]
     },
     "execution_count": 86,
     "metadata": {},
     "output_type": "execute_result"
    }
   ],
   "source": [
    "np.fromiter(range(5),dtype=int)"
   ]
  },
  {
   "cell_type": "code",
   "execution_count": 87,
   "id": "ed2af732",
   "metadata": {},
   "outputs": [],
   "source": [
    "gen\n",
    "for i in gen:\n",
    "    print(i)"
   ]
  },
  {
   "cell_type": "code",
   "execution_count": 88,
   "id": "dfe40c60",
   "metadata": {},
   "outputs": [
    {
     "name": "stderr",
     "output_type": "stream",
     "text": [
      "C:\\Users\\syedf\\AppData\\Local\\Temp/ipykernel_10276/3533805155.py:1: DeprecationWarning: The binary mode of fromstring is deprecated, as it behaves surprisingly on unicode inputs. Use frombuffer instead\n",
      "  np.fromstring('1,2,3,4,5')\n"
     ]
    },
    {
     "ename": "ValueError",
     "evalue": "string size must be a multiple of element size",
     "output_type": "error",
     "traceback": [
      "\u001b[1;31m---------------------------------------------------------------------------\u001b[0m",
      "\u001b[1;31mValueError\u001b[0m                                Traceback (most recent call last)",
      "\u001b[1;32m~\\AppData\\Local\\Temp/ipykernel_10276/3533805155.py\u001b[0m in \u001b[0;36m<module>\u001b[1;34m\u001b[0m\n\u001b[1;32m----> 1\u001b[1;33m \u001b[0mnp\u001b[0m\u001b[1;33m.\u001b[0m\u001b[0mfromstring\u001b[0m\u001b[1;33m(\u001b[0m\u001b[1;34m'1,2,3,4,5'\u001b[0m\u001b[1;33m)\u001b[0m\u001b[1;33m\u001b[0m\u001b[1;33m\u001b[0m\u001b[0m\n\u001b[0m",
      "\u001b[1;31mValueError\u001b[0m: string size must be a multiple of element size"
     ]
    }
   ],
   "source": [
    "np.fromstring('1,2,3,4,5')"
   ]
  },
  {
   "cell_type": "code",
   "execution_count": 89,
   "id": "da84d887",
   "metadata": {},
   "outputs": [
    {
     "data": {
      "text/plain": [
       "array([1., 2., 3., 2., 5., 6.])"
      ]
     },
     "execution_count": 89,
     "metadata": {},
     "output_type": "execute_result"
    }
   ],
   "source": [
    "np.fromstring('1,2,3,2,5,6', sep = ',')"
   ]
  },
  {
   "cell_type": "code",
   "execution_count": 90,
   "id": "1145a866",
   "metadata": {},
   "outputs": [
    {
     "data": {
      "text/plain": [
       "array([1, 2, 3, 2, 5, 6])"
      ]
     },
     "execution_count": 90,
     "metadata": {},
     "output_type": "execute_result"
    }
   ],
   "source": [
    "np.fromstring('1,2,3,2,5,6', sep = ',', dtype=int)"
   ]
  },
  {
   "cell_type": "code",
   "execution_count": 92,
   "id": "f658e742",
   "metadata": {},
   "outputs": [
    {
     "data": {
      "text/plain": [
       "array([ 464.+0.j,   46.+0.j,   43.+0.j, 9713.+0.j,   46.+0.j])"
      ]
     },
     "execution_count": 92,
     "metadata": {},
     "output_type": "execute_result"
    }
   ],
   "source": [
    "np.fromstring('464 46 43 9713 46', sep = ' ', dtype=complex)"
   ]
  },
  {
   "cell_type": "code",
   "execution_count": 93,
   "id": "8e717f7d",
   "metadata": {},
   "outputs": [],
   "source": [
    "l = [3,64,1,64,4,6]"
   ]
  },
  {
   "cell_type": "code",
   "execution_count": 94,
   "id": "c0ea1dca",
   "metadata": {},
   "outputs": [],
   "source": [
    "arr = np.array(l)"
   ]
  },
  {
   "cell_type": "code",
   "execution_count": 98,
   "id": "edc0bea9",
   "metadata": {},
   "outputs": [],
   "source": [
    "arr1 = np.array([[1,2,3,5],[3,15,2,6],[6,97,4,5]])"
   ]
  },
  {
   "cell_type": "code",
   "execution_count": 99,
   "id": "ca0ad283",
   "metadata": {},
   "outputs": [
    {
     "data": {
      "text/plain": [
       "array([[ 1,  2,  3,  5],\n",
       "       [ 3, 15,  2,  6],\n",
       "       [ 6, 97,  4,  5]])"
      ]
     },
     "execution_count": 99,
     "metadata": {},
     "output_type": "execute_result"
    }
   ],
   "source": [
    "arr1"
   ]
  },
  {
   "cell_type": "code",
   "execution_count": 97,
   "id": "1dbb9822",
   "metadata": {},
   "outputs": [
    {
     "data": {
      "text/plain": [
       "numpy.ndarray"
      ]
     },
     "execution_count": 97,
     "metadata": {},
     "output_type": "execute_result"
    }
   ],
   "source": [
    "type(arr)"
   ]
  },
  {
   "cell_type": "code",
   "execution_count": 100,
   "id": "fa31c417",
   "metadata": {},
   "outputs": [
    {
     "data": {
      "text/plain": [
       "2"
      ]
     },
     "execution_count": 100,
     "metadata": {},
     "output_type": "execute_result"
    }
   ],
   "source": [
    "arr1.ndim # (dimension)"
   ]
  },
  {
   "cell_type": "code",
   "execution_count": 101,
   "id": "c18cb2cf",
   "metadata": {},
   "outputs": [
    {
     "data": {
      "text/plain": [
       "12"
      ]
     },
     "execution_count": 101,
     "metadata": {},
     "output_type": "execute_result"
    }
   ],
   "source": [
    "arr1.size # (value contain)"
   ]
  },
  {
   "cell_type": "code",
   "execution_count": 102,
   "id": "05d85696",
   "metadata": {},
   "outputs": [
    {
     "data": {
      "text/plain": [
       "(3, 4)"
      ]
     },
     "execution_count": 102,
     "metadata": {},
     "output_type": "execute_result"
    }
   ],
   "source": [
    "arr1.shape # (m*n)"
   ]
  },
  {
   "cell_type": "code",
   "execution_count": 103,
   "id": "2eefdb09",
   "metadata": {},
   "outputs": [
    {
     "data": {
      "text/plain": [
       "dtype('int32')"
      ]
     },
     "execution_count": 103,
     "metadata": {},
     "output_type": "execute_result"
    }
   ],
   "source": [
    "arr1.dtype"
   ]
  },
  {
   "cell_type": "code",
   "execution_count": 104,
   "id": "6d4aea6f",
   "metadata": {},
   "outputs": [
    {
     "data": {
      "text/plain": [
       "6"
      ]
     },
     "execution_count": 104,
     "metadata": {},
     "output_type": "execute_result"
    }
   ],
   "source": [
    "arr.size"
   ]
  },
  {
   "cell_type": "code",
   "execution_count": 105,
   "id": "c94fb966",
   "metadata": {},
   "outputs": [
    {
     "data": {
      "text/plain": [
       "1"
      ]
     },
     "execution_count": 105,
     "metadata": {},
     "output_type": "execute_result"
    }
   ],
   "source": [
    "arr.ndim"
   ]
  },
  {
   "cell_type": "code",
   "execution_count": 106,
   "id": "0aca9b9a",
   "metadata": {},
   "outputs": [
    {
     "data": {
      "text/plain": [
       "(6,)"
      ]
     },
     "execution_count": 106,
     "metadata": {},
     "output_type": "execute_result"
    }
   ],
   "source": [
    "arr.shape"
   ]
  },
  {
   "cell_type": "code",
   "execution_count": 107,
   "id": "55e97bfd",
   "metadata": {},
   "outputs": [],
   "source": [
    "arr2 = np.array([[[1,2,3,4],[4,5,6,7]],[[1,2,3,4],[4,5,6,7]]])"
   ]
  },
  {
   "cell_type": "code",
   "execution_count": 108,
   "id": "3c4b0745",
   "metadata": {},
   "outputs": [
    {
     "data": {
      "text/plain": [
       "array([[[1, 2, 3, 4],\n",
       "        [4, 5, 6, 7]],\n",
       "\n",
       "       [[1, 2, 3, 4],\n",
       "        [4, 5, 6, 7]]])"
      ]
     },
     "execution_count": 108,
     "metadata": {},
     "output_type": "execute_result"
    }
   ],
   "source": [
    "arr2"
   ]
  },
  {
   "cell_type": "code",
   "execution_count": 112,
   "id": "e5ecdca6",
   "metadata": {},
   "outputs": [
    {
     "data": {
      "text/plain": [
       "(2, 2, 4)"
      ]
     },
     "execution_count": 112,
     "metadata": {},
     "output_type": "execute_result"
    }
   ],
   "source": [
    "arr2.shape # (2 no. of array 2 cross 4 (2*4))"
   ]
  },
  {
   "cell_type": "code",
   "execution_count": 110,
   "id": "acb8b9a8",
   "metadata": {},
   "outputs": [
    {
     "data": {
      "text/plain": [
       "16"
      ]
     },
     "execution_count": 110,
     "metadata": {},
     "output_type": "execute_result"
    }
   ],
   "source": [
    "arr2.size"
   ]
  },
  {
   "cell_type": "code",
   "execution_count": 111,
   "id": "203fd233",
   "metadata": {},
   "outputs": [
    {
     "data": {
      "text/plain": [
       "3"
      ]
     },
     "execution_count": 111,
     "metadata": {},
     "output_type": "execute_result"
    }
   ],
   "source": [
    "arr2.ndim"
   ]
  },
  {
   "cell_type": "code",
   "execution_count": 113,
   "id": "14b52657",
   "metadata": {},
   "outputs": [],
   "source": [
    "arr4 = np.array([[[[1,2,3,4],[4,5,6,7]],[[1,2,3,4],[4,5,6,7]],[[1,2,3,4],[4,5,6,7]],[[1,2,3,4],[4,5,6,7]]]])"
   ]
  },
  {
   "cell_type": "code",
   "execution_count": 114,
   "id": "3f033140",
   "metadata": {},
   "outputs": [
    {
     "data": {
      "text/plain": [
       "array([[[[1, 2, 3, 4],\n",
       "         [4, 5, 6, 7]],\n",
       "\n",
       "        [[1, 2, 3, 4],\n",
       "         [4, 5, 6, 7]],\n",
       "\n",
       "        [[1, 2, 3, 4],\n",
       "         [4, 5, 6, 7]],\n",
       "\n",
       "        [[1, 2, 3, 4],\n",
       "         [4, 5, 6, 7]]]])"
      ]
     },
     "execution_count": 114,
     "metadata": {},
     "output_type": "execute_result"
    }
   ],
   "source": [
    "arr4"
   ]
  },
  {
   "cell_type": "code",
   "execution_count": 115,
   "id": "b70fb3d0",
   "metadata": {},
   "outputs": [
    {
     "data": {
      "text/plain": [
       "4"
      ]
     },
     "execution_count": 115,
     "metadata": {},
     "output_type": "execute_result"
    }
   ],
   "source": [
    "arr4.ndim"
   ]
  },
  {
   "cell_type": "code",
   "execution_count": 116,
   "id": "1d729fcf",
   "metadata": {},
   "outputs": [
    {
     "data": {
      "text/plain": [
       "32"
      ]
     },
     "execution_count": 116,
     "metadata": {},
     "output_type": "execute_result"
    }
   ],
   "source": [
    "arr4.size"
   ]
  },
  {
   "cell_type": "code",
   "execution_count": 117,
   "id": "9418f3cc",
   "metadata": {},
   "outputs": [
    {
     "data": {
      "text/plain": [
       "(1, 4, 2, 4)"
      ]
     },
     "execution_count": 117,
     "metadata": {},
     "output_type": "execute_result"
    }
   ],
   "source": [
    "arr4.shape # ( always starts from the end 2 cross 4 array, 4 such array in 1)"
   ]
  },
  {
   "cell_type": "code",
   "execution_count": 118,
   "id": "eff59e2b",
   "metadata": {},
   "outputs": [
    {
     "data": {
      "text/plain": [
       "range(0, 6)"
      ]
     },
     "execution_count": 118,
     "metadata": {},
     "output_type": "execute_result"
    }
   ],
   "source": [
    "range(6)"
   ]
  },
  {
   "cell_type": "code",
   "execution_count": 119,
   "id": "88ff790f",
   "metadata": {},
   "outputs": [
    {
     "data": {
      "text/plain": [
       "[0, 1, 2, 3, 4, 5]"
      ]
     },
     "execution_count": 119,
     "metadata": {},
     "output_type": "execute_result"
    }
   ],
   "source": [
    "list(range(6))"
   ]
  },
  {
   "cell_type": "code",
   "execution_count": 122,
   "id": "7302d030",
   "metadata": {},
   "outputs": [
    {
     "ename": "TypeError",
     "evalue": "'float' object cannot be interpreted as an integer",
     "output_type": "error",
     "traceback": [
      "\u001b[1;31m---------------------------------------------------------------------------\u001b[0m",
      "\u001b[1;31mTypeError\u001b[0m                                 Traceback (most recent call last)",
      "\u001b[1;32m~\\AppData\\Local\\Temp/ipykernel_10276/2563226345.py\u001b[0m in \u001b[0;36m<module>\u001b[1;34m\u001b[0m\n\u001b[1;32m----> 1\u001b[1;33m \u001b[0mlist\u001b[0m\u001b[1;33m(\u001b[0m\u001b[0mrange\u001b[0m\u001b[1;33m(\u001b[0m\u001b[1;36m6.6\u001b[0m\u001b[1;33m,\u001b[0m\u001b[1;36m9\u001b[0m\u001b[1;33m,\u001b[0m\u001b[1;36m.3\u001b[0m\u001b[1;33m)\u001b[0m\u001b[1;33m)\u001b[0m\u001b[1;33m\u001b[0m\u001b[1;33m\u001b[0m\u001b[0m\n\u001b[0m",
      "\u001b[1;31mTypeError\u001b[0m: 'float' object cannot be interpreted as an integer"
     ]
    }
   ],
   "source": [
    "list(range(6.6,9,.3))"
   ]
  },
  {
   "cell_type": "code",
   "execution_count": 124,
   "id": "07deb558",
   "metadata": {},
   "outputs": [
    {
     "data": {
      "text/plain": [
       "array([6.6, 6.9, 7.2, 7.5, 7.8, 8.1, 8.4, 8.7, 9. ])"
      ]
     },
     "execution_count": 124,
     "metadata": {},
     "output_type": "execute_result"
    }
   ],
   "source": [
    "np.arange(6.6,9,.3)"
   ]
  },
  {
   "cell_type": "code",
   "execution_count": 5,
   "id": "38991a18",
   "metadata": {},
   "outputs": [
    {
     "data": {
      "text/plain": [
       "array([], dtype=float64)"
      ]
     },
     "execution_count": 5,
     "metadata": {},
     "output_type": "execute_result"
    }
   ],
   "source": [
    "np.arange(6.6,9,-.3)"
   ]
  },
  {
   "cell_type": "code",
   "execution_count": 7,
   "id": "4ae9b958",
   "metadata": {},
   "outputs": [
    {
     "data": {
      "text/plain": [
       "array([9. , 8.7, 8.4, 8.1, 7.8, 7.5, 7.2, 6.9, 6.6])"
      ]
     },
     "execution_count": 7,
     "metadata": {},
     "output_type": "execute_result"
    }
   ],
   "source": [
    "np.arange(9,6.6,-.3)"
   ]
  },
  {
   "cell_type": "code",
   "execution_count": 8,
   "id": "083d9e14",
   "metadata": {},
   "outputs": [
    {
     "data": {
      "text/plain": [
       "array([1.  , 1.25, 1.5 , 1.75, 2.  ])"
      ]
     },
     "execution_count": 8,
     "metadata": {},
     "output_type": "execute_result"
    }
   ],
   "source": [
    "np.linspace(1,2,5)"
   ]
  },
  {
   "cell_type": "code",
   "execution_count": 9,
   "id": "14694f6f",
   "metadata": {},
   "outputs": [
    {
     "data": {
      "text/plain": [
       "array([1., 2.])"
      ]
     },
     "execution_count": 9,
     "metadata": {},
     "output_type": "execute_result"
    }
   ],
   "source": [
    "np.linspace(1,2,2)"
   ]
  },
  {
   "cell_type": "code",
   "execution_count": 10,
   "id": "82fedb7f",
   "metadata": {},
   "outputs": [
    {
     "data": {
      "text/plain": [
       "array([1. , 1.5, 2. ])"
      ]
     },
     "execution_count": 10,
     "metadata": {},
     "output_type": "execute_result"
    }
   ],
   "source": [
    "np.linspace(1,2,3)"
   ]
  },
  {
   "cell_type": "code",
   "execution_count": 11,
   "id": "24836b9b",
   "metadata": {},
   "outputs": [
    {
     "data": {
      "text/plain": [
       "array([1.        , 1.33333333, 1.66666667, 2.        ])"
      ]
     },
     "execution_count": 11,
     "metadata": {},
     "output_type": "execute_result"
    }
   ],
   "source": [
    "np.linspace(1,2,4)"
   ]
  },
  {
   "cell_type": "code",
   "execution_count": 12,
   "id": "583f35fd",
   "metadata": {},
   "outputs": [
    {
     "data": {
      "text/plain": [
       "array([1.        , 1.11111111, 1.22222222, 1.33333333, 1.44444444,\n",
       "       1.55555556, 1.66666667, 1.77777778, 1.88888889, 2.        ])"
      ]
     },
     "execution_count": 12,
     "metadata": {},
     "output_type": "execute_result"
    }
   ],
   "source": [
    "np.linspace(1,2,10)"
   ]
  },
  {
   "cell_type": "code",
   "execution_count": 13,
   "id": "da0b9b6f",
   "metadata": {},
   "outputs": [
    {
     "data": {
      "text/plain": [
       "array([1.        , 1.09090909, 1.18181818, 1.27272727, 1.36363636,\n",
       "       1.45454545, 1.54545455, 1.63636364, 1.72727273, 1.81818182,\n",
       "       1.90909091, 2.        ])"
      ]
     },
     "execution_count": 13,
     "metadata": {},
     "output_type": "execute_result"
    }
   ],
   "source": [
    "np.linspace(1,2,12)"
   ]
  },
  {
   "cell_type": "code",
   "execution_count": 14,
   "id": "a7d3e150",
   "metadata": {},
   "outputs": [
    {
     "data": {
      "text/plain": [
       "array([ 1., 10.])"
      ]
     },
     "execution_count": 14,
     "metadata": {},
     "output_type": "execute_result"
    }
   ],
   "source": [
    "np.linspace(1,10,2)"
   ]
  },
  {
   "cell_type": "code",
   "execution_count": 15,
   "id": "d744382e",
   "metadata": {},
   "outputs": [
    {
     "data": {
      "text/plain": [
       "array([ 1.  ,  3.25,  5.5 ,  7.75, 10.  ])"
      ]
     },
     "execution_count": 15,
     "metadata": {},
     "output_type": "execute_result"
    }
   ],
   "source": [
    "np.linspace(1,10,5)"
   ]
  },
  {
   "cell_type": "code",
   "execution_count": 16,
   "id": "4e62040a",
   "metadata": {},
   "outputs": [
    {
     "data": {
      "text/plain": [
       "array([2.        , 2.04081633, 2.08163265, 2.12244898, 2.16326531,\n",
       "       2.20408163, 2.24489796, 2.28571429, 2.32653061, 2.36734694,\n",
       "       2.40816327, 2.44897959, 2.48979592, 2.53061224, 2.57142857,\n",
       "       2.6122449 , 2.65306122, 2.69387755, 2.73469388, 2.7755102 ,\n",
       "       2.81632653, 2.85714286, 2.89795918, 2.93877551, 2.97959184,\n",
       "       3.02040816, 3.06122449, 3.10204082, 3.14285714, 3.18367347,\n",
       "       3.2244898 , 3.26530612, 3.30612245, 3.34693878, 3.3877551 ,\n",
       "       3.42857143, 3.46938776, 3.51020408, 3.55102041, 3.59183673,\n",
       "       3.63265306, 3.67346939, 3.71428571, 3.75510204, 3.79591837,\n",
       "       3.83673469, 3.87755102, 3.91836735, 3.95918367, 4.        ])"
      ]
     },
     "execution_count": 16,
     "metadata": {},
     "output_type": "execute_result"
    }
   ],
   "source": [
    "np.linspace(2,4)"
   ]
  },
  {
   "cell_type": "code",
   "execution_count": 17,
   "id": "72db0a0d",
   "metadata": {},
   "outputs": [
    {
     "data": {
      "text/plain": [
       "array([0., 0., 0., 0., 0.])"
      ]
     },
     "execution_count": 17,
     "metadata": {},
     "output_type": "execute_result"
    }
   ],
   "source": [
    "np.zeros(5)"
   ]
  },
  {
   "cell_type": "code",
   "execution_count": 18,
   "id": "e586634e",
   "metadata": {},
   "outputs": [
    {
     "data": {
      "text/plain": [
       "array([[0., 0., 0., 0., 0.],\n",
       "       [0., 0., 0., 0., 0.]])"
      ]
     },
     "execution_count": 18,
     "metadata": {},
     "output_type": "execute_result"
    }
   ],
   "source": [
    "np.zeros((2,5))"
   ]
  },
  {
   "cell_type": "code",
   "execution_count": 19,
   "id": "a4855fbd",
   "metadata": {},
   "outputs": [
    {
     "data": {
      "text/plain": [
       "array([[[0., 0., 0., 0.],\n",
       "        [0., 0., 0., 0.],\n",
       "        [0., 0., 0., 0.],\n",
       "        [0., 0., 0., 0.],\n",
       "        [0., 0., 0., 0.]],\n",
       "\n",
       "       [[0., 0., 0., 0.],\n",
       "        [0., 0., 0., 0.],\n",
       "        [0., 0., 0., 0.],\n",
       "        [0., 0., 0., 0.],\n",
       "        [0., 0., 0., 0.]]])"
      ]
     },
     "execution_count": 19,
     "metadata": {},
     "output_type": "execute_result"
    }
   ],
   "source": [
    "np.zeros((2,5,4))"
   ]
  },
  {
   "cell_type": "code",
   "execution_count": 20,
   "id": "3606b206",
   "metadata": {},
   "outputs": [
    {
     "data": {
      "text/plain": [
       "array([[[[0.],\n",
       "         [0.],\n",
       "         [0.],\n",
       "         [0.]],\n",
       "\n",
       "        [[0.],\n",
       "         [0.],\n",
       "         [0.],\n",
       "         [0.]],\n",
       "\n",
       "        [[0.],\n",
       "         [0.],\n",
       "         [0.],\n",
       "         [0.]],\n",
       "\n",
       "        [[0.],\n",
       "         [0.],\n",
       "         [0.],\n",
       "         [0.]],\n",
       "\n",
       "        [[0.],\n",
       "         [0.],\n",
       "         [0.],\n",
       "         [0.]]],\n",
       "\n",
       "\n",
       "       [[[0.],\n",
       "         [0.],\n",
       "         [0.],\n",
       "         [0.]],\n",
       "\n",
       "        [[0.],\n",
       "         [0.],\n",
       "         [0.],\n",
       "         [0.]],\n",
       "\n",
       "        [[0.],\n",
       "         [0.],\n",
       "         [0.],\n",
       "         [0.]],\n",
       "\n",
       "        [[0.],\n",
       "         [0.],\n",
       "         [0.],\n",
       "         [0.]],\n",
       "\n",
       "        [[0.],\n",
       "         [0.],\n",
       "         [0.],\n",
       "         [0.]]]])"
      ]
     },
     "execution_count": 20,
     "metadata": {},
     "output_type": "execute_result"
    }
   ],
   "source": [
    "np.zeros((2,5,4,1))"
   ]
  },
  {
   "cell_type": "code",
   "execution_count": 21,
   "id": "e6158e79",
   "metadata": {},
   "outputs": [
    {
     "data": {
      "text/plain": [
       "array([1., 1., 1., 1.])"
      ]
     },
     "execution_count": 21,
     "metadata": {},
     "output_type": "execute_result"
    }
   ],
   "source": [
    "np.ones(4)"
   ]
  },
  {
   "cell_type": "code",
   "execution_count": 22,
   "id": "b63017f6",
   "metadata": {},
   "outputs": [
    {
     "data": {
      "text/plain": [
       "array([[1., 1., 1.],\n",
       "       [1., 1., 1.]])"
      ]
     },
     "execution_count": 22,
     "metadata": {},
     "output_type": "execute_result"
    }
   ],
   "source": [
    "np.ones((2,3))"
   ]
  },
  {
   "cell_type": "code",
   "execution_count": 23,
   "id": "54e20a0e",
   "metadata": {},
   "outputs": [
    {
     "data": {
      "text/plain": [
       "array([[[1.],\n",
       "        [1.],\n",
       "        [1.]],\n",
       "\n",
       "       [[1.],\n",
       "        [1.],\n",
       "        [1.]]])"
      ]
     },
     "execution_count": 23,
     "metadata": {},
     "output_type": "execute_result"
    }
   ],
   "source": [
    "np.ones((2,3,1))"
   ]
  },
  {
   "cell_type": "code",
   "execution_count": 24,
   "id": "52eeb664",
   "metadata": {},
   "outputs": [
    {
     "data": {
      "text/plain": [
       "array([[[6.],\n",
       "        [6.],\n",
       "        [6.]],\n",
       "\n",
       "       [[6.],\n",
       "        [6.],\n",
       "        [6.]]])"
      ]
     },
     "execution_count": 24,
     "metadata": {},
     "output_type": "execute_result"
    }
   ],
   "source": [
    "np.ones((2,3,1))+5"
   ]
  },
  {
   "cell_type": "code",
   "execution_count": 25,
   "id": "0247ea04",
   "metadata": {},
   "outputs": [
    {
     "data": {
      "text/plain": [
       "array([[1.        , 1.09090909, 1.18181818, 1.27272727],\n",
       "       [1.36363636, 1.45454545, 1.54545455, 1.63636364],\n",
       "       [1.72727273, 1.81818182, 1.90909091, 2.        ]])"
      ]
     },
     "execution_count": 25,
     "metadata": {},
     "output_type": "execute_result"
    }
   ],
   "source": [
    "np.empty((3,4))#some random data"
   ]
  },
  {
   "cell_type": "code",
   "execution_count": 26,
   "id": "e7aec7ff",
   "metadata": {},
   "outputs": [
    {
     "data": {
      "text/plain": [
       "array([0., 0., 0., 0., 0.])"
      ]
     },
     "execution_count": 26,
     "metadata": {},
     "output_type": "execute_result"
    }
   ],
   "source": [
    "np.empty(5)"
   ]
  },
  {
   "cell_type": "code",
   "execution_count": 27,
   "id": "9f1c6140",
   "metadata": {},
   "outputs": [
    {
     "data": {
      "text/plain": [
       "array([[1., 0., 0.],\n",
       "       [0., 1., 0.],\n",
       "       [0., 0., 1.]])"
      ]
     },
     "execution_count": 27,
     "metadata": {},
     "output_type": "execute_result"
    }
   ],
   "source": [
    "np.eye(3)"
   ]
  },
  {
   "cell_type": "code",
   "execution_count": 28,
   "id": "fe155af9",
   "metadata": {},
   "outputs": [
    {
     "data": {
      "text/plain": [
       "array([2.        , 2.66666667, 3.33333333, 4.        ])"
      ]
     },
     "execution_count": 28,
     "metadata": {},
     "output_type": "execute_result"
    }
   ],
   "source": [
    "np.linspace(2,4,4)"
   ]
  },
  {
   "cell_type": "code",
   "execution_count": 29,
   "id": "7e0d1b0d",
   "metadata": {},
   "outputs": [
    {
     "data": {
      "text/plain": [
       "array([2. , 2.5, 3. , 3.5])"
      ]
     },
     "execution_count": 29,
     "metadata": {},
     "output_type": "execute_result"
    }
   ],
   "source": [
    "np.linspace(2,4,4, endpoint=False)"
   ]
  },
  {
   "cell_type": "code",
   "execution_count": 30,
   "id": "8db49dec",
   "metadata": {},
   "outputs": [
    {
     "data": {
      "text/plain": [
       "array([2. , 2.5, 3. , 3.5])"
      ]
     },
     "execution_count": 30,
     "metadata": {},
     "output_type": "execute_result"
    }
   ],
   "source": [
    "np.linspace(2,4,4, endpoint=False,axis=0)"
   ]
  },
  {
   "cell_type": "code",
   "execution_count": 31,
   "id": "c3fd9e70",
   "metadata": {},
   "outputs": [
    {
     "ename": "AxisError",
     "evalue": "destination: axis 1 is out of bounds for array of dimension 1",
     "output_type": "error",
     "traceback": [
      "\u001b[1;31m---------------------------------------------------------------------------\u001b[0m",
      "\u001b[1;31mAxisError\u001b[0m                                 Traceback (most recent call last)",
      "\u001b[1;32m~\\AppData\\Local\\Temp/ipykernel_8564/3198611243.py\u001b[0m in \u001b[0;36m<module>\u001b[1;34m\u001b[0m\n\u001b[1;32m----> 1\u001b[1;33m \u001b[0mnp\u001b[0m\u001b[1;33m.\u001b[0m\u001b[0mlinspace\u001b[0m\u001b[1;33m(\u001b[0m\u001b[1;36m2\u001b[0m\u001b[1;33m,\u001b[0m\u001b[1;36m4\u001b[0m\u001b[1;33m,\u001b[0m\u001b[1;36m4\u001b[0m\u001b[1;33m,\u001b[0m \u001b[0mendpoint\u001b[0m\u001b[1;33m=\u001b[0m\u001b[1;32mFalse\u001b[0m\u001b[1;33m,\u001b[0m\u001b[0maxis\u001b[0m\u001b[1;33m=\u001b[0m\u001b[1;36m1\u001b[0m\u001b[1;33m)\u001b[0m\u001b[1;33m\u001b[0m\u001b[1;33m\u001b[0m\u001b[0m\n\u001b[0m",
      "\u001b[1;32m<__array_function__ internals>\u001b[0m in \u001b[0;36mlinspace\u001b[1;34m(*args, **kwargs)\u001b[0m\n",
      "\u001b[1;32m~\\anaconda3\\lib\\site-packages\\numpy\\core\\function_base.py\u001b[0m in \u001b[0;36mlinspace\u001b[1;34m(start, stop, num, endpoint, retstep, dtype, axis)\u001b[0m\n\u001b[0;32m    165\u001b[0m \u001b[1;33m\u001b[0m\u001b[0m\n\u001b[0;32m    166\u001b[0m     \u001b[1;32mif\u001b[0m \u001b[0maxis\u001b[0m \u001b[1;33m!=\u001b[0m \u001b[1;36m0\u001b[0m\u001b[1;33m:\u001b[0m\u001b[1;33m\u001b[0m\u001b[1;33m\u001b[0m\u001b[0m\n\u001b[1;32m--> 167\u001b[1;33m         \u001b[0my\u001b[0m \u001b[1;33m=\u001b[0m \u001b[0m_nx\u001b[0m\u001b[1;33m.\u001b[0m\u001b[0mmoveaxis\u001b[0m\u001b[1;33m(\u001b[0m\u001b[0my\u001b[0m\u001b[1;33m,\u001b[0m \u001b[1;36m0\u001b[0m\u001b[1;33m,\u001b[0m \u001b[0maxis\u001b[0m\u001b[1;33m)\u001b[0m\u001b[1;33m\u001b[0m\u001b[1;33m\u001b[0m\u001b[0m\n\u001b[0m\u001b[0;32m    168\u001b[0m \u001b[1;33m\u001b[0m\u001b[0m\n\u001b[0;32m    169\u001b[0m     \u001b[1;32mif\u001b[0m \u001b[0m_nx\u001b[0m\u001b[1;33m.\u001b[0m\u001b[0missubdtype\u001b[0m\u001b[1;33m(\u001b[0m\u001b[0mdtype\u001b[0m\u001b[1;33m,\u001b[0m \u001b[0m_nx\u001b[0m\u001b[1;33m.\u001b[0m\u001b[0minteger\u001b[0m\u001b[1;33m)\u001b[0m\u001b[1;33m:\u001b[0m\u001b[1;33m\u001b[0m\u001b[1;33m\u001b[0m\u001b[0m\n",
      "\u001b[1;32m<__array_function__ internals>\u001b[0m in \u001b[0;36mmoveaxis\u001b[1;34m(*args, **kwargs)\u001b[0m\n",
      "\u001b[1;32m~\\anaconda3\\lib\\site-packages\\numpy\\core\\numeric.py\u001b[0m in \u001b[0;36mmoveaxis\u001b[1;34m(a, source, destination)\u001b[0m\n\u001b[0;32m   1460\u001b[0m \u001b[1;33m\u001b[0m\u001b[0m\n\u001b[0;32m   1461\u001b[0m     \u001b[0msource\u001b[0m \u001b[1;33m=\u001b[0m \u001b[0mnormalize_axis_tuple\u001b[0m\u001b[1;33m(\u001b[0m\u001b[0msource\u001b[0m\u001b[1;33m,\u001b[0m \u001b[0ma\u001b[0m\u001b[1;33m.\u001b[0m\u001b[0mndim\u001b[0m\u001b[1;33m,\u001b[0m \u001b[1;34m'source'\u001b[0m\u001b[1;33m)\u001b[0m\u001b[1;33m\u001b[0m\u001b[1;33m\u001b[0m\u001b[0m\n\u001b[1;32m-> 1462\u001b[1;33m     \u001b[0mdestination\u001b[0m \u001b[1;33m=\u001b[0m \u001b[0mnormalize_axis_tuple\u001b[0m\u001b[1;33m(\u001b[0m\u001b[0mdestination\u001b[0m\u001b[1;33m,\u001b[0m \u001b[0ma\u001b[0m\u001b[1;33m.\u001b[0m\u001b[0mndim\u001b[0m\u001b[1;33m,\u001b[0m \u001b[1;34m'destination'\u001b[0m\u001b[1;33m)\u001b[0m\u001b[1;33m\u001b[0m\u001b[1;33m\u001b[0m\u001b[0m\n\u001b[0m\u001b[0;32m   1463\u001b[0m     \u001b[1;32mif\u001b[0m \u001b[0mlen\u001b[0m\u001b[1;33m(\u001b[0m\u001b[0msource\u001b[0m\u001b[1;33m)\u001b[0m \u001b[1;33m!=\u001b[0m \u001b[0mlen\u001b[0m\u001b[1;33m(\u001b[0m\u001b[0mdestination\u001b[0m\u001b[1;33m)\u001b[0m\u001b[1;33m:\u001b[0m\u001b[1;33m\u001b[0m\u001b[1;33m\u001b[0m\u001b[0m\n\u001b[0;32m   1464\u001b[0m         raise ValueError('`source` and `destination` arguments must have '\n",
      "\u001b[1;32m~\\anaconda3\\lib\\site-packages\\numpy\\core\\numeric.py\u001b[0m in \u001b[0;36mnormalize_axis_tuple\u001b[1;34m(axis, ndim, argname, allow_duplicate)\u001b[0m\n\u001b[0;32m   1389\u001b[0m             \u001b[1;32mpass\u001b[0m\u001b[1;33m\u001b[0m\u001b[1;33m\u001b[0m\u001b[0m\n\u001b[0;32m   1390\u001b[0m     \u001b[1;31m# Going via an iterator directly is slower than via list comprehension.\u001b[0m\u001b[1;33m\u001b[0m\u001b[1;33m\u001b[0m\u001b[0m\n\u001b[1;32m-> 1391\u001b[1;33m     \u001b[0maxis\u001b[0m \u001b[1;33m=\u001b[0m \u001b[0mtuple\u001b[0m\u001b[1;33m(\u001b[0m\u001b[1;33m[\u001b[0m\u001b[0mnormalize_axis_index\u001b[0m\u001b[1;33m(\u001b[0m\u001b[0max\u001b[0m\u001b[1;33m,\u001b[0m \u001b[0mndim\u001b[0m\u001b[1;33m,\u001b[0m \u001b[0margname\u001b[0m\u001b[1;33m)\u001b[0m \u001b[1;32mfor\u001b[0m \u001b[0max\u001b[0m \u001b[1;32min\u001b[0m \u001b[0maxis\u001b[0m\u001b[1;33m]\u001b[0m\u001b[1;33m)\u001b[0m\u001b[1;33m\u001b[0m\u001b[1;33m\u001b[0m\u001b[0m\n\u001b[0m\u001b[0;32m   1392\u001b[0m     \u001b[1;32mif\u001b[0m \u001b[1;32mnot\u001b[0m \u001b[0mallow_duplicate\u001b[0m \u001b[1;32mand\u001b[0m \u001b[0mlen\u001b[0m\u001b[1;33m(\u001b[0m\u001b[0mset\u001b[0m\u001b[1;33m(\u001b[0m\u001b[0maxis\u001b[0m\u001b[1;33m)\u001b[0m\u001b[1;33m)\u001b[0m \u001b[1;33m!=\u001b[0m \u001b[0mlen\u001b[0m\u001b[1;33m(\u001b[0m\u001b[0maxis\u001b[0m\u001b[1;33m)\u001b[0m\u001b[1;33m:\u001b[0m\u001b[1;33m\u001b[0m\u001b[1;33m\u001b[0m\u001b[0m\n\u001b[0;32m   1393\u001b[0m         \u001b[1;32mif\u001b[0m \u001b[0margname\u001b[0m\u001b[1;33m:\u001b[0m\u001b[1;33m\u001b[0m\u001b[1;33m\u001b[0m\u001b[0m\n",
      "\u001b[1;32m~\\anaconda3\\lib\\site-packages\\numpy\\core\\numeric.py\u001b[0m in \u001b[0;36m<listcomp>\u001b[1;34m(.0)\u001b[0m\n\u001b[0;32m   1389\u001b[0m             \u001b[1;32mpass\u001b[0m\u001b[1;33m\u001b[0m\u001b[1;33m\u001b[0m\u001b[0m\n\u001b[0;32m   1390\u001b[0m     \u001b[1;31m# Going via an iterator directly is slower than via list comprehension.\u001b[0m\u001b[1;33m\u001b[0m\u001b[1;33m\u001b[0m\u001b[0m\n\u001b[1;32m-> 1391\u001b[1;33m     \u001b[0maxis\u001b[0m \u001b[1;33m=\u001b[0m \u001b[0mtuple\u001b[0m\u001b[1;33m(\u001b[0m\u001b[1;33m[\u001b[0m\u001b[0mnormalize_axis_index\u001b[0m\u001b[1;33m(\u001b[0m\u001b[0max\u001b[0m\u001b[1;33m,\u001b[0m \u001b[0mndim\u001b[0m\u001b[1;33m,\u001b[0m \u001b[0margname\u001b[0m\u001b[1;33m)\u001b[0m \u001b[1;32mfor\u001b[0m \u001b[0max\u001b[0m \u001b[1;32min\u001b[0m \u001b[0maxis\u001b[0m\u001b[1;33m]\u001b[0m\u001b[1;33m)\u001b[0m\u001b[1;33m\u001b[0m\u001b[1;33m\u001b[0m\u001b[0m\n\u001b[0m\u001b[0;32m   1392\u001b[0m     \u001b[1;32mif\u001b[0m \u001b[1;32mnot\u001b[0m \u001b[0mallow_duplicate\u001b[0m \u001b[1;32mand\u001b[0m \u001b[0mlen\u001b[0m\u001b[1;33m(\u001b[0m\u001b[0mset\u001b[0m\u001b[1;33m(\u001b[0m\u001b[0maxis\u001b[0m\u001b[1;33m)\u001b[0m\u001b[1;33m)\u001b[0m \u001b[1;33m!=\u001b[0m \u001b[0mlen\u001b[0m\u001b[1;33m(\u001b[0m\u001b[0maxis\u001b[0m\u001b[1;33m)\u001b[0m\u001b[1;33m:\u001b[0m\u001b[1;33m\u001b[0m\u001b[1;33m\u001b[0m\u001b[0m\n\u001b[0;32m   1393\u001b[0m         \u001b[1;32mif\u001b[0m \u001b[0margname\u001b[0m\u001b[1;33m:\u001b[0m\u001b[1;33m\u001b[0m\u001b[1;33m\u001b[0m\u001b[0m\n",
      "\u001b[1;31mAxisError\u001b[0m: destination: axis 1 is out of bounds for array of dimension 1"
     ]
    }
   ],
   "source": [
    "np.linspace(2,4,4, endpoint=False,axis=1)"
   ]
  },
  {
   "cell_type": "code",
   "execution_count": 32,
   "id": "b33482cf",
   "metadata": {},
   "outputs": [
    {
     "data": {
      "text/plain": [
       "array([[2.  , 4.  ],\n",
       "       [2.04, 4.  ],\n",
       "       [2.08, 4.  ],\n",
       "       [2.12, 4.  ],\n",
       "       [2.16, 4.  ],\n",
       "       [2.2 , 4.  ],\n",
       "       [2.24, 4.  ],\n",
       "       [2.28, 4.  ],\n",
       "       [2.32, 4.  ],\n",
       "       [2.36, 4.  ],\n",
       "       [2.4 , 4.  ],\n",
       "       [2.44, 4.  ],\n",
       "       [2.48, 4.  ],\n",
       "       [2.52, 4.  ],\n",
       "       [2.56, 4.  ],\n",
       "       [2.6 , 4.  ],\n",
       "       [2.64, 4.  ],\n",
       "       [2.68, 4.  ],\n",
       "       [2.72, 4.  ],\n",
       "       [2.76, 4.  ],\n",
       "       [2.8 , 4.  ],\n",
       "       [2.84, 4.  ],\n",
       "       [2.88, 4.  ],\n",
       "       [2.92, 4.  ],\n",
       "       [2.96, 4.  ],\n",
       "       [3.  , 4.  ],\n",
       "       [3.04, 4.  ],\n",
       "       [3.08, 4.  ],\n",
       "       [3.12, 4.  ],\n",
       "       [3.16, 4.  ],\n",
       "       [3.2 , 4.  ],\n",
       "       [3.24, 4.  ],\n",
       "       [3.28, 4.  ],\n",
       "       [3.32, 4.  ],\n",
       "       [3.36, 4.  ],\n",
       "       [3.4 , 4.  ],\n",
       "       [3.44, 4.  ],\n",
       "       [3.48, 4.  ],\n",
       "       [3.52, 4.  ],\n",
       "       [3.56, 4.  ],\n",
       "       [3.6 , 4.  ],\n",
       "       [3.64, 4.  ],\n",
       "       [3.68, 4.  ],\n",
       "       [3.72, 4.  ],\n",
       "       [3.76, 4.  ],\n",
       "       [3.8 , 4.  ],\n",
       "       [3.84, 4.  ],\n",
       "       [3.88, 4.  ],\n",
       "       [3.92, 4.  ],\n",
       "       [3.96, 4.  ]])"
      ]
     },
     "execution_count": 32,
     "metadata": {},
     "output_type": "execute_result"
    }
   ],
   "source": [
    "np.linspace([2,4],4, endpoint=False,axis=0)"
   ]
  },
  {
   "cell_type": "code",
   "execution_count": 33,
   "id": "52ad36c1",
   "metadata": {},
   "outputs": [
    {
     "data": {
      "text/plain": [
       "array([[2.  , 2.04, 2.08, 2.12, 2.16, 2.2 , 2.24, 2.28, 2.32, 2.36, 2.4 ,\n",
       "        2.44, 2.48, 2.52, 2.56, 2.6 , 2.64, 2.68, 2.72, 2.76, 2.8 , 2.84,\n",
       "        2.88, 2.92, 2.96, 3.  , 3.04, 3.08, 3.12, 3.16, 3.2 , 3.24, 3.28,\n",
       "        3.32, 3.36, 3.4 , 3.44, 3.48, 3.52, 3.56, 3.6 , 3.64, 3.68, 3.72,\n",
       "        3.76, 3.8 , 3.84, 3.88, 3.92, 3.96],\n",
       "       [4.  , 4.  , 4.  , 4.  , 4.  , 4.  , 4.  , 4.  , 4.  , 4.  , 4.  ,\n",
       "        4.  , 4.  , 4.  , 4.  , 4.  , 4.  , 4.  , 4.  , 4.  , 4.  , 4.  ,\n",
       "        4.  , 4.  , 4.  , 4.  , 4.  , 4.  , 4.  , 4.  , 4.  , 4.  , 4.  ,\n",
       "        4.  , 4.  , 4.  , 4.  , 4.  , 4.  , 4.  , 4.  , 4.  , 4.  , 4.  ,\n",
       "        4.  , 4.  , 4.  , 4.  , 4.  , 4.  ]])"
      ]
     },
     "execution_count": 33,
     "metadata": {},
     "output_type": "execute_result"
    }
   ],
   "source": [
    "np.linspace([2,4],4, endpoint=False,axis=1)"
   ]
  },
  {
   "cell_type": "code",
   "execution_count": 34,
   "id": "93eb7b44",
   "metadata": {},
   "outputs": [
    {
     "data": {
      "text/plain": [
       "array([[2.  , 6.  ],\n",
       "       [2.04, 5.96],\n",
       "       [2.08, 5.92],\n",
       "       [2.12, 5.88],\n",
       "       [2.16, 5.84],\n",
       "       [2.2 , 5.8 ],\n",
       "       [2.24, 5.76],\n",
       "       [2.28, 5.72],\n",
       "       [2.32, 5.68],\n",
       "       [2.36, 5.64],\n",
       "       [2.4 , 5.6 ],\n",
       "       [2.44, 5.56],\n",
       "       [2.48, 5.52],\n",
       "       [2.52, 5.48],\n",
       "       [2.56, 5.44],\n",
       "       [2.6 , 5.4 ],\n",
       "       [2.64, 5.36],\n",
       "       [2.68, 5.32],\n",
       "       [2.72, 5.28],\n",
       "       [2.76, 5.24],\n",
       "       [2.8 , 5.2 ],\n",
       "       [2.84, 5.16],\n",
       "       [2.88, 5.12],\n",
       "       [2.92, 5.08],\n",
       "       [2.96, 5.04],\n",
       "       [3.  , 5.  ],\n",
       "       [3.04, 4.96],\n",
       "       [3.08, 4.92],\n",
       "       [3.12, 4.88],\n",
       "       [3.16, 4.84],\n",
       "       [3.2 , 4.8 ],\n",
       "       [3.24, 4.76],\n",
       "       [3.28, 4.72],\n",
       "       [3.32, 4.68],\n",
       "       [3.36, 4.64],\n",
       "       [3.4 , 4.6 ],\n",
       "       [3.44, 4.56],\n",
       "       [3.48, 4.52],\n",
       "       [3.52, 4.48],\n",
       "       [3.56, 4.44],\n",
       "       [3.6 , 4.4 ],\n",
       "       [3.64, 4.36],\n",
       "       [3.68, 4.32],\n",
       "       [3.72, 4.28],\n",
       "       [3.76, 4.24],\n",
       "       [3.8 , 4.2 ],\n",
       "       [3.84, 4.16],\n",
       "       [3.88, 4.12],\n",
       "       [3.92, 4.08],\n",
       "       [3.96, 4.04]])"
      ]
     },
     "execution_count": 34,
     "metadata": {},
     "output_type": "execute_result"
    }
   ],
   "source": [
    "np.linspace([2,6],4, endpoint=False,axis=0)"
   ]
  },
  {
   "cell_type": "code",
   "execution_count": 35,
   "id": "c9fb723f",
   "metadata": {},
   "outputs": [
    {
     "data": {
      "text/plain": [
       "array([[2.  , 2.04, 2.08, 2.12, 2.16, 2.2 , 2.24, 2.28, 2.32, 2.36, 2.4 ,\n",
       "        2.44, 2.48, 2.52, 2.56, 2.6 , 2.64, 2.68, 2.72, 2.76, 2.8 , 2.84,\n",
       "        2.88, 2.92, 2.96, 3.  , 3.04, 3.08, 3.12, 3.16, 3.2 , 3.24, 3.28,\n",
       "        3.32, 3.36, 3.4 , 3.44, 3.48, 3.52, 3.56, 3.6 , 3.64, 3.68, 3.72,\n",
       "        3.76, 3.8 , 3.84, 3.88, 3.92, 3.96],\n",
       "       [6.  , 5.96, 5.92, 5.88, 5.84, 5.8 , 5.76, 5.72, 5.68, 5.64, 5.6 ,\n",
       "        5.56, 5.52, 5.48, 5.44, 5.4 , 5.36, 5.32, 5.28, 5.24, 5.2 , 5.16,\n",
       "        5.12, 5.08, 5.04, 5.  , 4.96, 4.92, 4.88, 4.84, 4.8 , 4.76, 4.72,\n",
       "        4.68, 4.64, 4.6 , 4.56, 4.52, 4.48, 4.44, 4.4 , 4.36, 4.32, 4.28,\n",
       "        4.24, 4.2 , 4.16, 4.12, 4.08, 4.04]])"
      ]
     },
     "execution_count": 35,
     "metadata": {},
     "output_type": "execute_result"
    }
   ],
   "source": [
    "np.linspace([2,6],4, endpoint=False,axis=1)"
   ]
  },
  {
   "cell_type": "code",
   "execution_count": 36,
   "id": "a59f5a57",
   "metadata": {},
   "outputs": [
    {
     "data": {
      "text/plain": [
       "array([ 100.        ,  177.827941  ,  316.22776602,  562.34132519,\n",
       "       1000.        ])"
      ]
     },
     "execution_count": 36,
     "metadata": {},
     "output_type": "execute_result"
    }
   ],
   "source": [
    "np.logspace(2,3,5)"
   ]
  },
  {
   "cell_type": "code",
   "execution_count": 37,
   "id": "9bb55c7d",
   "metadata": {},
   "outputs": [
    {
     "data": {
      "text/plain": [
       "array([[  100.        ,  1000.        ],\n",
       "       [  109.8541142 ,  1048.11313415],\n",
       "       [  120.67926406,  1098.54114199],\n",
       "       [  132.57113656,  1151.39539933],\n",
       "       [  145.63484775,  1206.79264064],\n",
       "       [  159.98587196,  1264.85521686],\n",
       "       [  175.75106249,  1325.71136559],\n",
       "       [  193.06977289,  1389.49549437],\n",
       "       [  212.09508879,  1456.3484775 ],\n",
       "       [  232.99518105,  1526.41796718],\n",
       "       [  255.95479227,  1599.85871961],\n",
       "       [  281.1768698 ,  1676.83293681],\n",
       "       [  308.88435965,  1757.51062485],\n",
       "       [  339.32217719,  1842.06996933],\n",
       "       [  372.75937203,  1930.69772888],\n",
       "       [  409.49150624,  2023.58964773],\n",
       "       [  449.8432669 ,  2120.95088792],\n",
       "       [  494.17133613,  2222.99648253],\n",
       "       [  542.86754393,  2329.95181052],\n",
       "       [  596.36233166,  2442.05309455],\n",
       "       [  655.12855686,  2559.5479227 ],\n",
       "       [  719.685673  ,  2682.69579528],\n",
       "       [  790.60432109,  2811.76869797],\n",
       "       [  868.51137375,  2947.05170255],\n",
       "       [  954.09547635,  3088.84359648],\n",
       "       [ 1048.11313415,  3237.45754282],\n",
       "       [ 1151.39539933,  3393.2217719 ],\n",
       "       [ 1264.85521686,  3556.48030622],\n",
       "       [ 1389.49549437,  3727.59372031],\n",
       "       [ 1526.41796718,  3906.93993705],\n",
       "       [ 1676.83293681,  4094.91506238],\n",
       "       [ 1842.06996933,  4291.93426013],\n",
       "       [ 2023.58964773,  4498.43266897],\n",
       "       [ 2222.99648253,  4714.86636346],\n",
       "       [ 2442.05309455,  4941.71336132],\n",
       "       [ 2682.69579528,  5179.47467923],\n",
       "       [ 2947.05170255,  5428.67543932],\n",
       "       [ 3237.45754282,  5689.86602902],\n",
       "       [ 3556.48030622,  5963.62331659],\n",
       "       [ 3906.93993705,  6250.55192527],\n",
       "       [ 4291.93426013,  6551.2855686 ],\n",
       "       [ 4714.86636346,  6866.48845004],\n",
       "       [ 5179.47467923,  7196.85673001],\n",
       "       [ 5689.86602902,  7543.12006335],\n",
       "       [ 6250.55192527,  7906.04321091],\n",
       "       [ 6866.48845004,  8286.42772855],\n",
       "       [ 7543.12006335,  8685.11373751],\n",
       "       [ 8286.42772855,  9102.98177992],\n",
       "       [ 9102.98177992,  9540.9547635 ],\n",
       "       [10000.        , 10000.        ]])"
      ]
     },
     "execution_count": 37,
     "metadata": {},
     "output_type": "execute_result"
    }
   ],
   "source": [
    "np.logspace([2,3],4)"
   ]
  },
  {
   "cell_type": "code",
   "execution_count": 38,
   "id": "fa33d7bb",
   "metadata": {},
   "outputs": [
    {
     "data": {
      "text/plain": [
       "array([[  100.        ,   109.8541142 ,   120.67926406,   132.57113656,\n",
       "          145.63484775,   159.98587196,   175.75106249,   193.06977289,\n",
       "          212.09508879,   232.99518105,   255.95479227,   281.1768698 ,\n",
       "          308.88435965,   339.32217719,   372.75937203,   409.49150624,\n",
       "          449.8432669 ,   494.17133613,   542.86754393,   596.36233166,\n",
       "          655.12855686,   719.685673  ,   790.60432109,   868.51137375,\n",
       "          954.09547635,  1048.11313415,  1151.39539933,  1264.85521686,\n",
       "         1389.49549437,  1526.41796718,  1676.83293681,  1842.06996933,\n",
       "         2023.58964773,  2222.99648253,  2442.05309455,  2682.69579528,\n",
       "         2947.05170255,  3237.45754282,  3556.48030622,  3906.93993705,\n",
       "         4291.93426013,  4714.86636346,  5179.47467923,  5689.86602902,\n",
       "         6250.55192527,  6866.48845004,  7543.12006335,  8286.42772855,\n",
       "         9102.98177992, 10000.        ],\n",
       "       [ 1000.        ,  1048.11313415,  1098.54114199,  1151.39539933,\n",
       "         1206.79264064,  1264.85521686,  1325.71136559,  1389.49549437,\n",
       "         1456.3484775 ,  1526.41796718,  1599.85871961,  1676.83293681,\n",
       "         1757.51062485,  1842.06996933,  1930.69772888,  2023.58964773,\n",
       "         2120.95088792,  2222.99648253,  2329.95181052,  2442.05309455,\n",
       "         2559.5479227 ,  2682.69579528,  2811.76869797,  2947.05170255,\n",
       "         3088.84359648,  3237.45754282,  3393.2217719 ,  3556.48030622,\n",
       "         3727.59372031,  3906.93993705,  4094.91506238,  4291.93426013,\n",
       "         4498.43266897,  4714.86636346,  4941.71336132,  5179.47467923,\n",
       "         5428.67543932,  5689.86602902,  5963.62331659,  6250.55192527,\n",
       "         6551.2855686 ,  6866.48845004,  7196.85673001,  7543.12006335,\n",
       "         7906.04321091,  8286.42772855,  8685.11373751,  9102.98177992,\n",
       "         9540.9547635 , 10000.        ]])"
      ]
     },
     "execution_count": 38,
     "metadata": {},
     "output_type": "execute_result"
    }
   ],
   "source": [
    "np.logspace([2,3],4,axis=1)"
   ]
  },
  {
   "cell_type": "code",
   "execution_count": 39,
   "id": "ef6ca2a2",
   "metadata": {},
   "outputs": [
    {
     "data": {
      "text/plain": [
       "array([[ 100.        ,  104.81131342,  109.8541142 ,  115.13953993,\n",
       "         120.67926406,  126.48552169,  132.57113656,  138.94954944,\n",
       "         145.63484775,  152.64179672,  159.98587196,  167.68329368,\n",
       "         175.75106249,  184.20699693,  193.06977289,  202.35896477,\n",
       "         212.09508879,  222.29964825,  232.99518105,  244.20530945,\n",
       "         255.95479227,  268.26957953,  281.1768698 ,  294.70517026,\n",
       "         308.88435965,  323.74575428,  339.32217719,  355.64803062,\n",
       "         372.75937203,  390.69399371,  409.49150624,  429.19342601,\n",
       "         449.8432669 ,  471.48663635,  494.17133613,  517.94746792,\n",
       "         542.86754393,  568.9866029 ,  596.36233166,  625.05519253,\n",
       "         655.12855686,  686.648845  ,  719.685673  ,  754.31200634,\n",
       "         790.60432109,  828.64277285,  868.51137375,  910.29817799,\n",
       "         954.09547635, 1000.        ]])"
      ]
     },
     "execution_count": 39,
     "metadata": {},
     "output_type": "execute_result"
    }
   ],
   "source": [
    "np.logspace([2],[3],axis = 1)"
   ]
  },
  {
   "cell_type": "code",
   "execution_count": 40,
   "id": "8828fadd",
   "metadata": {},
   "outputs": [
    {
     "data": {
      "text/plain": [
       "array([[ 100.        ],\n",
       "       [ 104.81131342],\n",
       "       [ 109.8541142 ],\n",
       "       [ 115.13953993],\n",
       "       [ 120.67926406],\n",
       "       [ 126.48552169],\n",
       "       [ 132.57113656],\n",
       "       [ 138.94954944],\n",
       "       [ 145.63484775],\n",
       "       [ 152.64179672],\n",
       "       [ 159.98587196],\n",
       "       [ 167.68329368],\n",
       "       [ 175.75106249],\n",
       "       [ 184.20699693],\n",
       "       [ 193.06977289],\n",
       "       [ 202.35896477],\n",
       "       [ 212.09508879],\n",
       "       [ 222.29964825],\n",
       "       [ 232.99518105],\n",
       "       [ 244.20530945],\n",
       "       [ 255.95479227],\n",
       "       [ 268.26957953],\n",
       "       [ 281.1768698 ],\n",
       "       [ 294.70517026],\n",
       "       [ 308.88435965],\n",
       "       [ 323.74575428],\n",
       "       [ 339.32217719],\n",
       "       [ 355.64803062],\n",
       "       [ 372.75937203],\n",
       "       [ 390.69399371],\n",
       "       [ 409.49150624],\n",
       "       [ 429.19342601],\n",
       "       [ 449.8432669 ],\n",
       "       [ 471.48663635],\n",
       "       [ 494.17133613],\n",
       "       [ 517.94746792],\n",
       "       [ 542.86754393],\n",
       "       [ 568.9866029 ],\n",
       "       [ 596.36233166],\n",
       "       [ 625.05519253],\n",
       "       [ 655.12855686],\n",
       "       [ 686.648845  ],\n",
       "       [ 719.685673  ],\n",
       "       [ 754.31200634],\n",
       "       [ 790.60432109],\n",
       "       [ 828.64277285],\n",
       "       [ 868.51137375],\n",
       "       [ 910.29817799],\n",
       "       [ 954.09547635],\n",
       "       [1000.        ]])"
      ]
     },
     "execution_count": 40,
     "metadata": {},
     "output_type": "execute_result"
    }
   ],
   "source": [
    "np.logspace([2],[3],axis = 0)"
   ]
  },
  {
   "cell_type": "code",
   "execution_count": 41,
   "id": "b5f26674",
   "metadata": {},
   "outputs": [
    {
     "data": {
      "text/plain": [
       "array([[   100.        , 100000.        ],\n",
       "       [   104.81131342,  91029.81779915],\n",
       "       [   109.8541142 ,  82864.27728547],\n",
       "       [   115.13953993,  75431.20063355],\n",
       "       [   120.67926406,  68664.88450043],\n",
       "       [   126.48552169,  62505.51925274],\n",
       "       [   132.57113656,  56898.66029018],\n",
       "       [   138.94954944,  51794.74679231],\n",
       "       [   145.63484775,  47148.66363457],\n",
       "       [   152.64179672,  42919.34260129],\n",
       "       [   159.98587196,  39069.39937055],\n",
       "       [   167.68329368,  35564.80306223],\n",
       "       [   175.75106249,  32374.57542818],\n",
       "       [   184.20699693,  29470.51702552],\n",
       "       [   193.06977289,  26826.9579528 ],\n",
       "       [   202.35896477,  24420.53094549],\n",
       "       [   212.09508879,  22229.96482526],\n",
       "       [   222.29964825,  20235.89647725],\n",
       "       [   232.99518105,  18420.69969327],\n",
       "       [   244.20530945,  16768.32936811],\n",
       "       [   255.95479227,  15264.17967175],\n",
       "       [   268.26957953,  13894.95494373],\n",
       "       [   281.1768698 ,  12648.55216855],\n",
       "       [   294.70517026,  11513.95399326],\n",
       "       [   308.88435965,  10481.13134155],\n",
       "       [   323.74575428,   9540.9547635 ],\n",
       "       [   339.32217719,   8685.11373751],\n",
       "       [   355.64803062,   7906.04321091],\n",
       "       [   372.75937203,   7196.85673001],\n",
       "       [   390.69399371,   6551.2855686 ],\n",
       "       [   409.49150624,   5963.62331659],\n",
       "       [   429.19342601,   5428.67543932],\n",
       "       [   449.8432669 ,   4941.71336132],\n",
       "       [   471.48663635,   4498.43266897],\n",
       "       [   494.17133613,   4094.91506238],\n",
       "       [   517.94746792,   3727.59372031],\n",
       "       [   542.86754393,   3393.2217719 ],\n",
       "       [   568.9866029 ,   3088.84359648],\n",
       "       [   596.36233166,   2811.76869797],\n",
       "       [   625.05519253,   2559.5479227 ],\n",
       "       [   655.12855686,   2329.95181052],\n",
       "       [   686.648845  ,   2120.95088792],\n",
       "       [   719.685673  ,   1930.69772888],\n",
       "       [   754.31200634,   1757.51062485],\n",
       "       [   790.60432109,   1599.85871961],\n",
       "       [   828.64277285,   1456.3484775 ],\n",
       "       [   868.51137375,   1325.71136559],\n",
       "       [   910.29817799,   1206.79264064],\n",
       "       [   954.09547635,   1098.54114199],\n",
       "       [  1000.        ,   1000.        ]])"
      ]
     },
     "execution_count": 41,
     "metadata": {},
     "output_type": "execute_result"
    }
   ],
   "source": [
    "np.logspace([2,5],[3],axis = 0)"
   ]
  },
  {
   "cell_type": "code",
   "execution_count": 42,
   "id": "c64dbd68",
   "metadata": {},
   "outputs": [
    {
     "data": {
      "text/plain": [
       "array([[   100.        ,    104.81131342,    109.8541142 ,\n",
       "           115.13953993,    120.67926406,    126.48552169,\n",
       "           132.57113656,    138.94954944,    145.63484775,\n",
       "           152.64179672,    159.98587196,    167.68329368,\n",
       "           175.75106249,    184.20699693,    193.06977289,\n",
       "           202.35896477,    212.09508879,    222.29964825,\n",
       "           232.99518105,    244.20530945,    255.95479227,\n",
       "           268.26957953,    281.1768698 ,    294.70517026,\n",
       "           308.88435965,    323.74575428,    339.32217719,\n",
       "           355.64803062,    372.75937203,    390.69399371,\n",
       "           409.49150624,    429.19342601,    449.8432669 ,\n",
       "           471.48663635,    494.17133613,    517.94746792,\n",
       "           542.86754393,    568.9866029 ,    596.36233166,\n",
       "           625.05519253,    655.12855686,    686.648845  ,\n",
       "           719.685673  ,    754.31200634,    790.60432109,\n",
       "           828.64277285,    868.51137375,    910.29817799,\n",
       "           954.09547635,   1000.        ],\n",
       "       [100000.        ,  91029.81779915,  82864.27728547,\n",
       "         75431.20063355,  68664.88450043,  62505.51925274,\n",
       "         56898.66029018,  51794.74679231,  47148.66363457,\n",
       "         42919.34260129,  39069.39937055,  35564.80306223,\n",
       "         32374.57542818,  29470.51702552,  26826.9579528 ,\n",
       "         24420.53094549,  22229.96482526,  20235.89647725,\n",
       "         18420.69969327,  16768.32936811,  15264.17967175,\n",
       "         13894.95494373,  12648.55216855,  11513.95399326,\n",
       "         10481.13134155,   9540.9547635 ,   8685.11373751,\n",
       "          7906.04321091,   7196.85673001,   6551.2855686 ,\n",
       "          5963.62331659,   5428.67543932,   4941.71336132,\n",
       "          4498.43266897,   4094.91506238,   3727.59372031,\n",
       "          3393.2217719 ,   3088.84359648,   2811.76869797,\n",
       "          2559.5479227 ,   2329.95181052,   2120.95088792,\n",
       "          1930.69772888,   1757.51062485,   1599.85871961,\n",
       "          1456.3484775 ,   1325.71136559,   1206.79264064,\n",
       "          1098.54114199,   1000.        ]])"
      ]
     },
     "execution_count": 42,
     "metadata": {},
     "output_type": "execute_result"
    }
   ],
   "source": [
    "np.logspace([2,5],[3],axis = 1)"
   ]
  },
  {
   "cell_type": "code",
   "execution_count": 43,
   "id": "b667bf3a",
   "metadata": {},
   "outputs": [],
   "source": [
    "d = np.linspace(4,7,40)"
   ]
  },
  {
   "cell_type": "code",
   "execution_count": 44,
   "id": "e42dadde",
   "metadata": {},
   "outputs": [
    {
     "data": {
      "text/plain": [
       "array([4.        , 4.07692308, 4.15384615, 4.23076923, 4.30769231,\n",
       "       4.38461538, 4.46153846, 4.53846154, 4.61538462, 4.69230769,\n",
       "       4.76923077, 4.84615385, 4.92307692, 5.        , 5.07692308,\n",
       "       5.15384615, 5.23076923, 5.30769231, 5.38461538, 5.46153846,\n",
       "       5.53846154, 5.61538462, 5.69230769, 5.76923077, 5.84615385,\n",
       "       5.92307692, 6.        , 6.07692308, 6.15384615, 6.23076923,\n",
       "       6.30769231, 6.38461538, 6.46153846, 6.53846154, 6.61538462,\n",
       "       6.69230769, 6.76923077, 6.84615385, 6.92307692, 7.        ])"
      ]
     },
     "execution_count": 44,
     "metadata": {},
     "output_type": "execute_result"
    }
   ],
   "source": [
    "d"
   ]
  },
  {
   "cell_type": "code",
   "execution_count": 45,
   "id": "e1809bd7",
   "metadata": {},
   "outputs": [
    {
     "data": {
      "text/plain": [
       "1"
      ]
     },
     "execution_count": 45,
     "metadata": {},
     "output_type": "execute_result"
    }
   ],
   "source": [
    "d.ndim"
   ]
  },
  {
   "cell_type": "code",
   "execution_count": 46,
   "id": "61e483e4",
   "metadata": {},
   "outputs": [
    {
     "data": {
      "text/plain": [
       "(40,)"
      ]
     },
     "execution_count": 46,
     "metadata": {},
     "output_type": "execute_result"
    }
   ],
   "source": [
    "d.shape"
   ]
  },
  {
   "cell_type": "code",
   "execution_count": 47,
   "id": "0bbe3cf9",
   "metadata": {},
   "outputs": [
    {
     "data": {
      "text/plain": [
       "40"
      ]
     },
     "execution_count": 47,
     "metadata": {},
     "output_type": "execute_result"
    }
   ],
   "source": [
    "d.size"
   ]
  },
  {
   "cell_type": "code",
   "execution_count": 48,
   "id": "8e6ea094",
   "metadata": {},
   "outputs": [
    {
     "data": {
      "text/plain": [
       "array([[4.        ],\n",
       "       [4.07692308],\n",
       "       [4.15384615],\n",
       "       [4.23076923],\n",
       "       [4.30769231],\n",
       "       [4.38461538],\n",
       "       [4.46153846],\n",
       "       [4.53846154],\n",
       "       [4.61538462],\n",
       "       [4.69230769],\n",
       "       [4.76923077],\n",
       "       [4.84615385],\n",
       "       [4.92307692],\n",
       "       [5.        ],\n",
       "       [5.07692308],\n",
       "       [5.15384615],\n",
       "       [5.23076923],\n",
       "       [5.30769231],\n",
       "       [5.38461538],\n",
       "       [5.46153846],\n",
       "       [5.53846154],\n",
       "       [5.61538462],\n",
       "       [5.69230769],\n",
       "       [5.76923077],\n",
       "       [5.84615385],\n",
       "       [5.92307692],\n",
       "       [6.        ],\n",
       "       [6.07692308],\n",
       "       [6.15384615],\n",
       "       [6.23076923],\n",
       "       [6.30769231],\n",
       "       [6.38461538],\n",
       "       [6.46153846],\n",
       "       [6.53846154],\n",
       "       [6.61538462],\n",
       "       [6.69230769],\n",
       "       [6.76923077],\n",
       "       [6.84615385],\n",
       "       [6.92307692],\n",
       "       [7.        ]])"
      ]
     },
     "execution_count": 48,
     "metadata": {},
     "output_type": "execute_result"
    }
   ],
   "source": [
    "d.reshape(40,1)"
   ]
  },
  {
   "cell_type": "code",
   "execution_count": 49,
   "id": "ba6995cc",
   "metadata": {},
   "outputs": [
    {
     "data": {
      "text/plain": [
       "array([[[4.        , 4.07692308, 4.15384615, 4.23076923, 4.30769231,\n",
       "         4.38461538, 4.46153846, 4.53846154, 4.61538462, 4.69230769,\n",
       "         4.76923077, 4.84615385, 4.92307692, 5.        , 5.07692308,\n",
       "         5.15384615, 5.23076923, 5.30769231, 5.38461538, 5.46153846],\n",
       "        [5.53846154, 5.61538462, 5.69230769, 5.76923077, 5.84615385,\n",
       "         5.92307692, 6.        , 6.07692308, 6.15384615, 6.23076923,\n",
       "         6.30769231, 6.38461538, 6.46153846, 6.53846154, 6.61538462,\n",
       "         6.69230769, 6.76923077, 6.84615385, 6.92307692, 7.        ]]])"
      ]
     },
     "execution_count": 49,
     "metadata": {},
     "output_type": "execute_result"
    }
   ],
   "source": [
    "d.reshape(1,2,20)"
   ]
  },
  {
   "cell_type": "code",
   "execution_count": 50,
   "id": "6fd2a6ec",
   "metadata": {},
   "outputs": [
    {
     "data": {
      "text/plain": [
       "array([[[4.        , 4.07692308, 4.15384615, 4.23076923, 4.30769231,\n",
       "         4.38461538, 4.46153846, 4.53846154, 4.61538462, 4.69230769,\n",
       "         4.76923077, 4.84615385, 4.92307692, 5.        , 5.07692308,\n",
       "         5.15384615, 5.23076923, 5.30769231, 5.38461538, 5.46153846]],\n",
       "\n",
       "       [[5.53846154, 5.61538462, 5.69230769, 5.76923077, 5.84615385,\n",
       "         5.92307692, 6.        , 6.07692308, 6.15384615, 6.23076923,\n",
       "         6.30769231, 6.38461538, 6.46153846, 6.53846154, 6.61538462,\n",
       "         6.69230769, 6.76923077, 6.84615385, 6.92307692, 7.        ]]])"
      ]
     },
     "execution_count": 50,
     "metadata": {},
     "output_type": "execute_result"
    }
   ],
   "source": [
    "d.reshape(2,1,20)"
   ]
  },
  {
   "cell_type": "code",
   "execution_count": 51,
   "id": "1abaebac",
   "metadata": {},
   "outputs": [
    {
     "data": {
      "text/plain": [
       "array([[[[4.        , 4.07692308, 4.15384615, 4.23076923, 4.30769231,\n",
       "          4.38461538, 4.46153846, 4.53846154, 4.61538462, 4.69230769,\n",
       "          4.76923077, 4.84615385, 4.92307692, 5.        , 5.07692308,\n",
       "          5.15384615, 5.23076923, 5.30769231, 5.38461538, 5.46153846]],\n",
       "\n",
       "        [[5.53846154, 5.61538462, 5.69230769, 5.76923077, 5.84615385,\n",
       "          5.92307692, 6.        , 6.07692308, 6.15384615, 6.23076923,\n",
       "          6.30769231, 6.38461538, 6.46153846, 6.53846154, 6.61538462,\n",
       "          6.69230769, 6.76923077, 6.84615385, 6.92307692, 7.        ]]]])"
      ]
     },
     "execution_count": 51,
     "metadata": {},
     "output_type": "execute_result"
    }
   ],
   "source": [
    " d.reshape(1,2,1,20)"
   ]
  },
  {
   "cell_type": "code",
   "execution_count": 52,
   "id": "f31f9cb9",
   "metadata": {},
   "outputs": [
    {
     "ename": "ValueError",
     "evalue": "cannot reshape array of size 40 into shape (3,1,20)",
     "output_type": "error",
     "traceback": [
      "\u001b[1;31m---------------------------------------------------------------------------\u001b[0m",
      "\u001b[1;31mValueError\u001b[0m                                Traceback (most recent call last)",
      "\u001b[1;32m~\\AppData\\Local\\Temp/ipykernel_8564/2273215604.py\u001b[0m in \u001b[0;36m<module>\u001b[1;34m\u001b[0m\n\u001b[1;32m----> 1\u001b[1;33m \u001b[0md\u001b[0m\u001b[1;33m.\u001b[0m\u001b[0mreshape\u001b[0m\u001b[1;33m(\u001b[0m\u001b[1;36m3\u001b[0m\u001b[1;33m,\u001b[0m\u001b[1;36m1\u001b[0m\u001b[1;33m,\u001b[0m\u001b[1;36m20\u001b[0m\u001b[1;33m)\u001b[0m\u001b[1;33m\u001b[0m\u001b[1;33m\u001b[0m\u001b[0m\n\u001b[0m",
      "\u001b[1;31mValueError\u001b[0m: cannot reshape array of size 40 into shape (3,1,20)"
     ]
    }
   ],
   "source": [
    "d.reshape(3,1,20)"
   ]
  },
  {
   "cell_type": "code",
   "execution_count": 54,
   "id": "21be53c3",
   "metadata": {},
   "outputs": [
    {
     "data": {
      "text/plain": [
       "array([[[4.        , 4.07692308, 4.15384615, 4.23076923, 4.30769231,\n",
       "         4.38461538, 4.46153846, 4.53846154, 4.61538462, 4.69230769],\n",
       "        [4.76923077, 4.84615385, 4.92307692, 5.        , 5.07692308,\n",
       "         5.15384615, 5.23076923, 5.30769231, 5.38461538, 5.46153846],\n",
       "        [5.53846154, 5.61538462, 5.69230769, 5.76923077, 5.84615385,\n",
       "         5.92307692, 6.        , 6.07692308, 6.15384615, 6.23076923],\n",
       "        [6.30769231, 6.38461538, 6.46153846, 6.53846154, 6.61538462,\n",
       "         6.69230769, 6.76923077, 6.84615385, 6.92307692, 7.        ]]])"
      ]
     },
     "execution_count": 54,
     "metadata": {},
     "output_type": "execute_result"
    }
   ],
   "source": [
    "d.reshape(1,4,10)"
   ]
  },
  {
   "cell_type": "code",
   "execution_count": 55,
   "id": "bc3416c3",
   "metadata": {},
   "outputs": [
    {
     "data": {
      "text/plain": [
       "array([   100.        ,    215.443469  ,    464.15888336,   1000.        ,\n",
       "         2154.43469003,   4641.58883361,  10000.        ,  21544.34690032,\n",
       "        46415.88833613, 100000.        ])"
      ]
     },
     "execution_count": 55,
     "metadata": {},
     "output_type": "execute_result"
    }
   ],
   "source": [
    "np.logspace(2,5,10)"
   ]
  },
  {
   "cell_type": "code",
   "execution_count": 56,
   "id": "b7e21455",
   "metadata": {},
   "outputs": [
    {
     "data": {
      "text/plain": [
       "array([0.91199632, 0.15220434, 0.769703  ])"
      ]
     },
     "execution_count": 56,
     "metadata": {},
     "output_type": "execute_result"
    }
   ],
   "source": [
    "np.random.rand(3)"
   ]
  },
  {
   "cell_type": "code",
   "execution_count": 57,
   "id": "0561b1ab",
   "metadata": {},
   "outputs": [
    {
     "data": {
      "text/plain": [
       "array([ 1.53721916, -0.55913241,  0.61429374, -0.14175501, -0.84049533])"
      ]
     },
     "execution_count": 57,
     "metadata": {},
     "output_type": "execute_result"
    }
   ],
   "source": [
    "np.random.randn(5)"
   ]
  },
  {
   "cell_type": "code",
   "execution_count": 58,
   "id": "bc3af409",
   "metadata": {},
   "outputs": [
    {
     "data": {
      "text/plain": [
       "array([[-1.17292665,  0.17813978, -1.31334192, -1.36986768],\n",
       "       [ 0.12005631, -1.6907962 , -2.55942162, -0.81647046],\n",
       "       [-0.73006128, -0.66531077, -0.89742846, -0.61690066],\n",
       "       [-0.08452678,  1.33343488,  0.21115673,  2.48236124],\n",
       "       [ 0.10958746,  1.73476318, -0.04257751, -1.24373418]])"
      ]
     },
     "execution_count": 58,
     "metadata": {},
     "output_type": "execute_result"
    }
   ],
   "source": [
    "np.random.randn(5,4)"
   ]
  },
  {
   "cell_type": "code",
   "execution_count": 59,
   "id": "ce0711df",
   "metadata": {},
   "outputs": [
    {
     "data": {
      "text/plain": [
       "array([[-0.51409983, -1.21461585,  2.97146918],\n",
       "       [ 0.31955008,  0.819348  ,  0.47457144]])"
      ]
     },
     "execution_count": 59,
     "metadata": {},
     "output_type": "execute_result"
    }
   ],
   "source": [
    "np.random.randn(2,3)"
   ]
  },
  {
   "cell_type": "code",
   "execution_count": 60,
   "id": "4c876db1",
   "metadata": {},
   "outputs": [
    {
     "data": {
      "text/plain": [
       "array([[[ 0.13363258,  0.39036641,  1.08775902],\n",
       "        [-1.31180859,  1.13636209,  0.98420649]],\n",
       "\n",
       "       [[ 0.8180018 ,  0.70635669,  1.44290881],\n",
       "        [ 0.72555712,  2.01658347, -0.94825012]]])"
      ]
     },
     "execution_count": 60,
     "metadata": {},
     "output_type": "execute_result"
    }
   ],
   "source": [
    "np.random.randn(2,2,3)"
   ]
  },
  {
   "cell_type": "code",
   "execution_count": 61,
   "id": "4e69533c",
   "metadata": {},
   "outputs": [
    {
     "data": {
      "text/plain": [
       "4"
      ]
     },
     "execution_count": 61,
     "metadata": {},
     "output_type": "execute_result"
    }
   ],
   "source": [
    "np.random.randint(5)"
   ]
  },
  {
   "cell_type": "code",
   "execution_count": 62,
   "id": "2ddd14ac",
   "metadata": {},
   "outputs": [
    {
     "data": {
      "text/plain": [
       "49"
      ]
     },
     "execution_count": 62,
     "metadata": {},
     "output_type": "execute_result"
    }
   ],
   "source": [
    "np.random.randint(5,60)"
   ]
  },
  {
   "cell_type": "code",
   "execution_count": 64,
   "id": "db938862",
   "metadata": {},
   "outputs": [
    {
     "data": {
      "text/plain": [
       "array([[19, 20, 58, 20],\n",
       "       [58, 26, 57, 50],\n",
       "       [57, 34, 58, 20],\n",
       "       [15, 33, 50, 49]])"
      ]
     },
     "execution_count": 64,
     "metadata": {},
     "output_type": "execute_result"
    }
   ],
   "source": [
    "np.random.randint(5,60,(4,4))"
   ]
  },
  {
   "cell_type": "code",
   "execution_count": 66,
   "id": "c39aca0f",
   "metadata": {},
   "outputs": [],
   "source": [
    "arr = np.random.randint(5,25,(3,3))"
   ]
  },
  {
   "cell_type": "code",
   "execution_count": 67,
   "id": "b8f597fa",
   "metadata": {},
   "outputs": [
    {
     "data": {
      "text/plain": [
       "array([[19, 12, 16],\n",
       "       [14, 16, 11],\n",
       "       [14, 15, 11]])"
      ]
     },
     "execution_count": 67,
     "metadata": {},
     "output_type": "execute_result"
    }
   ],
   "source": [
    "arr"
   ]
  },
  {
   "cell_type": "code",
   "execution_count": 68,
   "id": "93bea467",
   "metadata": {},
   "outputs": [
    {
     "data": {
      "text/plain": [
       "array([[19, 12, 16, 14, 16, 11, 14, 15, 11]])"
      ]
     },
     "execution_count": 68,
     "metadata": {},
     "output_type": "execute_result"
    }
   ],
   "source": [
    "arr.reshape(1,9)"
   ]
  },
  {
   "cell_type": "code",
   "execution_count": 69,
   "id": "c2d64f45",
   "metadata": {},
   "outputs": [
    {
     "ename": "ValueError",
     "evalue": "cannot reshape array of size 9 into shape (5,4)",
     "output_type": "error",
     "traceback": [
      "\u001b[1;31m---------------------------------------------------------------------------\u001b[0m",
      "\u001b[1;31mValueError\u001b[0m                                Traceback (most recent call last)",
      "\u001b[1;32m~\\AppData\\Local\\Temp/ipykernel_8564/2558305353.py\u001b[0m in \u001b[0;36m<module>\u001b[1;34m\u001b[0m\n\u001b[1;32m----> 1\u001b[1;33m \u001b[0marr\u001b[0m\u001b[1;33m.\u001b[0m\u001b[0mreshape\u001b[0m\u001b[1;33m(\u001b[0m\u001b[1;36m5\u001b[0m\u001b[1;33m,\u001b[0m\u001b[1;36m4\u001b[0m\u001b[1;33m)\u001b[0m\u001b[1;33m\u001b[0m\u001b[1;33m\u001b[0m\u001b[0m\n\u001b[0m",
      "\u001b[1;31mValueError\u001b[0m: cannot reshape array of size 9 into shape (5,4)"
     ]
    }
   ],
   "source": [
    "arr.reshape(5,4)"
   ]
  },
  {
   "cell_type": "code",
   "execution_count": 70,
   "id": "6f72191c",
   "metadata": {},
   "outputs": [
    {
     "data": {
      "text/plain": [
       "array([[19],\n",
       "       [12],\n",
       "       [16],\n",
       "       [14],\n",
       "       [16],\n",
       "       [11],\n",
       "       [14],\n",
       "       [15],\n",
       "       [11]])"
      ]
     },
     "execution_count": 70,
     "metadata": {},
     "output_type": "execute_result"
    }
   ],
   "source": [
    "arr.reshape(9,1)"
   ]
  },
  {
   "cell_type": "code",
   "execution_count": 71,
   "id": "460b1035",
   "metadata": {},
   "outputs": [
    {
     "data": {
      "text/plain": [
       "array([[[19, 12, 16, 14, 16, 11, 14, 15, 11]]])"
      ]
     },
     "execution_count": 71,
     "metadata": {},
     "output_type": "execute_result"
    }
   ],
   "source": [
    "arr.reshape(1,1,9)"
   ]
  },
  {
   "cell_type": "code",
   "execution_count": 72,
   "id": "24aaa060",
   "metadata": {},
   "outputs": [
    {
     "data": {
      "text/plain": [
       "array([[[19],\n",
       "        [12],\n",
       "        [16]],\n",
       "\n",
       "       [[14],\n",
       "        [16],\n",
       "        [11]],\n",
       "\n",
       "       [[14],\n",
       "        [15],\n",
       "        [11]]])"
      ]
     },
     "execution_count": 72,
     "metadata": {},
     "output_type": "execute_result"
    }
   ],
   "source": [
    "arr.reshape(3,3,1)"
   ]
  },
  {
   "cell_type": "code",
   "execution_count": 73,
   "id": "5cb50a8e",
   "metadata": {},
   "outputs": [
    {
     "data": {
      "text/plain": [
       "array([[19, 12, 16],\n",
       "       [14, 16, 11],\n",
       "       [14, 15, 11]])"
      ]
     },
     "execution_count": 73,
     "metadata": {},
     "output_type": "execute_result"
    }
   ],
   "source": [
    "arr.reshape(3,-1)"
   ]
  },
  {
   "cell_type": "code",
   "execution_count": 74,
   "id": "f35faa25",
   "metadata": {},
   "outputs": [
    {
     "data": {
      "text/plain": [
       "array([[19, 12, 16],\n",
       "       [14, 16, 11],\n",
       "       [14, 15, 11]])"
      ]
     },
     "execution_count": 74,
     "metadata": {},
     "output_type": "execute_result"
    }
   ],
   "source": [
    "arr.reshape(3,-1965768)"
   ]
  },
  {
   "cell_type": "code",
   "execution_count": 75,
   "id": "ad833217",
   "metadata": {},
   "outputs": [
    {
     "data": {
      "text/plain": [
       "array([[19, 12, 16, 14, 16, 11, 14, 15, 11]])"
      ]
     },
     "execution_count": 75,
     "metadata": {},
     "output_type": "execute_result"
    }
   ],
   "source": [
    "arr.reshape(1,-1)"
   ]
  },
  {
   "cell_type": "code",
   "execution_count": 76,
   "id": "cf9b0122",
   "metadata": {},
   "outputs": [
    {
     "data": {
      "text/plain": [
       "array([[19, 12, 16, 14, 16, 11, 14, 15, 11]])"
      ]
     },
     "execution_count": 76,
     "metadata": {},
     "output_type": "execute_result"
    }
   ],
   "source": [
    "arr.reshape(1,-146846)"
   ]
  },
  {
   "cell_type": "code",
   "execution_count": 77,
   "id": "7916b4e7",
   "metadata": {},
   "outputs": [
    {
     "data": {
      "text/plain": [
       "array([[19, 12, 16],\n",
       "       [14, 16, 11],\n",
       "       [14, 15, 11]])"
      ]
     },
     "execution_count": 77,
     "metadata": {},
     "output_type": "execute_result"
    }
   ],
   "source": [
    "arr"
   ]
  },
  {
   "cell_type": "code",
   "execution_count": 78,
   "id": "1e846e8e",
   "metadata": {},
   "outputs": [
    {
     "data": {
      "text/plain": [
       "19"
      ]
     },
     "execution_count": 78,
     "metadata": {},
     "output_type": "execute_result"
    }
   ],
   "source": [
    "arr.max()"
   ]
  },
  {
   "cell_type": "code",
   "execution_count": 79,
   "id": "e19089aa",
   "metadata": {},
   "outputs": [
    {
     "data": {
      "text/plain": [
       "14.222222222222221"
      ]
     },
     "execution_count": 79,
     "metadata": {},
     "output_type": "execute_result"
    }
   ],
   "source": [
    "arr.mean()"
   ]
  },
  {
   "cell_type": "code",
   "execution_count": 84,
   "id": "825c01ab",
   "metadata": {},
   "outputs": [
    {
     "data": {
      "text/plain": [
       "128"
      ]
     },
     "execution_count": 84,
     "metadata": {},
     "output_type": "execute_result"
    }
   ],
   "source": [
    "arr.sum()"
   ]
  },
  {
   "cell_type": "code",
   "execution_count": 80,
   "id": "5e449462",
   "metadata": {},
   "outputs": [
    {
     "data": {
      "text/plain": [
       "11"
      ]
     },
     "execution_count": 80,
     "metadata": {},
     "output_type": "execute_result"
    }
   ],
   "source": [
    "arr.min()"
   ]
  },
  {
   "cell_type": "code",
   "execution_count": 81,
   "id": "bd00bb4b",
   "metadata": {},
   "outputs": [
    {
     "data": {
      "text/plain": [
       "2"
      ]
     },
     "execution_count": 81,
     "metadata": {},
     "output_type": "execute_result"
    }
   ],
   "source": [
    "arr.ndim"
   ]
  },
  {
   "cell_type": "code",
   "execution_count": 83,
   "id": "e082c833",
   "metadata": {},
   "outputs": [
    {
     "data": {
      "text/plain": [
       "array([[19, 14, 14],\n",
       "       [12, 16, 15],\n",
       "       [16, 11, 11]])"
      ]
     },
     "execution_count": 83,
     "metadata": {},
     "output_type": "execute_result"
    }
   ],
   "source": [
    "arr.transpose()"
   ]
  },
  {
   "cell_type": "code",
   "execution_count": 91,
   "id": "f396d3d8",
   "metadata": {},
   "outputs": [],
   "source": [
    "arr = np.random.randint(4,100, (5,5))"
   ]
  },
  {
   "cell_type": "code",
   "execution_count": 92,
   "id": "747d54ef",
   "metadata": {},
   "outputs": [
    {
     "data": {
      "text/plain": [
       "array([[21, 97, 54, 83, 50],\n",
       "       [11, 71, 62, 87, 13],\n",
       "       [99, 26, 94, 10, 69],\n",
       "       [24, 70, 14, 28, 52],\n",
       "       [71, 21, 88, 57, 57]])"
      ]
     },
     "execution_count": 92,
     "metadata": {},
     "output_type": "execute_result"
    }
   ],
   "source": [
    "arr"
   ]
  },
  {
   "cell_type": "code",
   "execution_count": 93,
   "id": "dfbf03a7",
   "metadata": {},
   "outputs": [
    {
     "data": {
      "text/plain": [
       "10"
      ]
     },
     "execution_count": 93,
     "metadata": {},
     "output_type": "execute_result"
    }
   ],
   "source": [
    "arr.min()"
   ]
  },
  {
   "cell_type": "code",
   "execution_count": 94,
   "id": "fb9062ba",
   "metadata": {},
   "outputs": [
    {
     "data": {
      "text/plain": [
       "array([[28, 52],\n",
       "       [57, 57]])"
      ]
     },
     "execution_count": 94,
     "metadata": {},
     "output_type": "execute_result"
    }
   ],
   "source": [
    "arr[3:,3:] #1st is for row(------),2nd is for coloum(||||||||)"
   ]
  },
  {
   "cell_type": "code",
   "execution_count": 95,
   "id": "27d7f835",
   "metadata": {},
   "outputs": [
    {
     "data": {
      "text/plain": [
       "array([[70, 14, 28, 52],\n",
       "       [21, 88, 57, 57]])"
      ]
     },
     "execution_count": 95,
     "metadata": {},
     "output_type": "execute_result"
    }
   ],
   "source": [
    "arr[3:,1:]"
   ]
  },
  {
   "cell_type": "code",
   "execution_count": 98,
   "id": "d26c7c1e",
   "metadata": {},
   "outputs": [
    {
     "data": {
      "text/plain": [
       "array([[70]])"
      ]
     },
     "execution_count": 98,
     "metadata": {},
     "output_type": "execute_result"
    }
   ],
   "source": [
    "arr[3:4,1:2]"
   ]
  },
  {
   "cell_type": "code",
   "execution_count": 99,
   "id": "4b30326d",
   "metadata": {},
   "outputs": [
    {
     "data": {
      "text/plain": [
       "array([[70],\n",
       "       [21]])"
      ]
     },
     "execution_count": 99,
     "metadata": {},
     "output_type": "execute_result"
    }
   ],
   "source": [
    "arr[3:,1:2]"
   ]
  },
  {
   "cell_type": "code",
   "execution_count": 100,
   "id": "c3cd55ba",
   "metadata": {},
   "outputs": [
    {
     "data": {
      "text/plain": [
       "array([[62, 87],\n",
       "       [94, 10],\n",
       "       [14, 28]])"
      ]
     },
     "execution_count": 100,
     "metadata": {},
     "output_type": "execute_result"
    }
   ],
   "source": [
    "arr[1:4,2:4]"
   ]
  },
  {
   "cell_type": "code",
   "execution_count": 101,
   "id": "785a2863",
   "metadata": {},
   "outputs": [
    {
     "data": {
      "text/plain": [
       "array([[10]])"
      ]
     },
     "execution_count": 101,
     "metadata": {},
     "output_type": "execute_result"
    }
   ],
   "source": [
    "arr[2:3,3:4]"
   ]
  },
  {
   "cell_type": "code",
   "execution_count": 102,
   "id": "45d999f9",
   "metadata": {},
   "outputs": [
    {
     "data": {
      "text/plain": [
       "array([[97, 54, 83],\n",
       "       [71, 62, 87],\n",
       "       [26, 94, 10],\n",
       "       [70, 14, 28],\n",
       "       [21, 88, 57]])"
      ]
     },
     "execution_count": 102,
     "metadata": {},
     "output_type": "execute_result"
    }
   ],
   "source": [
    "arr[:,1:4]"
   ]
  },
  {
   "cell_type": "code",
   "execution_count": 103,
   "id": "6573fa42",
   "metadata": {},
   "outputs": [
    {
     "data": {
      "text/plain": [
       "array([[97, 83],\n",
       "       [71, 87],\n",
       "       [26, 10],\n",
       "       [70, 28],\n",
       "       [21, 57]])"
      ]
     },
     "execution_count": 103,
     "metadata": {},
     "output_type": "execute_result"
    }
   ],
   "source": [
    "arr[:,[1,3]]"
   ]
  },
  {
   "cell_type": "code",
   "execution_count": 104,
   "id": "b1950532",
   "metadata": {},
   "outputs": [
    {
     "data": {
      "text/plain": [
       "array([[11, 71, 62, 87, 13],\n",
       "       [71, 21, 88, 57, 57]])"
      ]
     },
     "execution_count": 104,
     "metadata": {},
     "output_type": "execute_result"
    }
   ],
   "source": [
    "arr[[1,4],:]"
   ]
  },
  {
   "cell_type": "code",
   "execution_count": 105,
   "id": "68231257",
   "metadata": {},
   "outputs": [
    {
     "data": {
      "text/plain": [
       "array([[21, 97, 54, 83, 50],\n",
       "       [11, 71, 62, 87, 13],\n",
       "       [99, 26, 94, 10, 69],\n",
       "       [24, 70, 14, 28, 52],\n",
       "       [71, 21, 88, 57, 57]])"
      ]
     },
     "execution_count": 105,
     "metadata": {},
     "output_type": "execute_result"
    }
   ],
   "source": [
    "arr"
   ]
  },
  {
   "cell_type": "code",
   "execution_count": 106,
   "id": "1bfe332b",
   "metadata": {},
   "outputs": [
    {
     "data": {
      "text/plain": [
       "array([[21, 97, 54, 83, 50],\n",
       "       [11, 71, 62, 87, 13],\n",
       "       [99, 26, 94, 10, 69],\n",
       "       [24, 70, 14, 28, 52],\n",
       "       [71, 21, 88, 57, 57]])"
      ]
     },
     "execution_count": 106,
     "metadata": {},
     "output_type": "execute_result"
    }
   ],
   "source": [
    "arr[:,:]"
   ]
  },
  {
   "cell_type": "code",
   "execution_count": 107,
   "id": "ef946691",
   "metadata": {},
   "outputs": [
    {
     "data": {
      "text/plain": [
       "array([14, 28])"
      ]
     },
     "execution_count": 107,
     "metadata": {},
     "output_type": "execute_result"
    }
   ],
   "source": [
    "arr[[3,3],[2,3]]"
   ]
  },
  {
   "cell_type": "code",
   "execution_count": 108,
   "id": "664da488",
   "metadata": {},
   "outputs": [
    {
     "data": {
      "text/plain": [
       "array([[24, 70, 14, 28, 52]])"
      ]
     },
     "execution_count": 108,
     "metadata": {},
     "output_type": "execute_result"
    }
   ],
   "source": [
    "arr[[3]]"
   ]
  },
  {
   "cell_type": "code",
   "execution_count": 109,
   "id": "4776b6de",
   "metadata": {},
   "outputs": [
    {
     "data": {
      "text/plain": [
       "array([[24, 70, 14, 28, 52],\n",
       "       [24, 70, 14, 28, 52]])"
      ]
     },
     "execution_count": 109,
     "metadata": {},
     "output_type": "execute_result"
    }
   ],
   "source": [
    "arr[[3,3],]"
   ]
  },
  {
   "cell_type": "code",
   "execution_count": 110,
   "id": "a5bdaa7f",
   "metadata": {},
   "outputs": [
    {
     "data": {
      "text/plain": [
       "array([14, 14])"
      ]
     },
     "execution_count": 110,
     "metadata": {},
     "output_type": "execute_result"
    }
   ],
   "source": [
    "arr[[3,3],[2,2]]"
   ]
  },
  {
   "cell_type": "code",
   "execution_count": 111,
   "id": "7f7b6eb7",
   "metadata": {},
   "outputs": [
    {
     "data": {
      "text/plain": [
       "array([[24, 70, 14, 28, 52],\n",
       "       [24, 70, 14, 28, 52]])"
      ]
     },
     "execution_count": 111,
     "metadata": {},
     "output_type": "execute_result"
    }
   ],
   "source": [
    "arr[[3,3],:]"
   ]
  },
  {
   "cell_type": "code",
   "execution_count": 112,
   "id": "66af683b",
   "metadata": {},
   "outputs": [
    {
     "data": {
      "text/plain": [
       "array([14])"
      ]
     },
     "execution_count": 112,
     "metadata": {},
     "output_type": "execute_result"
    }
   ],
   "source": [
    "arr[[3],[2]]"
   ]
  },
  {
   "cell_type": "code",
   "execution_count": 113,
   "id": "5edee3c4",
   "metadata": {},
   "outputs": [
    {
     "data": {
      "text/plain": [
       "array([[21, 97, 54, 83, 50],\n",
       "       [11, 71, 62, 87, 13],\n",
       "       [99, 26, 94, 10, 69],\n",
       "       [24, 70, 14, 28, 52],\n",
       "       [71, 21, 88, 57, 57]])"
      ]
     },
     "execution_count": 113,
     "metadata": {},
     "output_type": "execute_result"
    }
   ],
   "source": [
    "arr"
   ]
  },
  {
   "cell_type": "code",
   "execution_count": 114,
   "id": "2f0e5ece",
   "metadata": {},
   "outputs": [
    {
     "data": {
      "text/plain": [
       "array([87])"
      ]
     },
     "execution_count": 114,
     "metadata": {},
     "output_type": "execute_result"
    }
   ],
   "source": [
    "arr[[1],[3]]"
   ]
  },
  {
   "cell_type": "code",
   "execution_count": 115,
   "id": "24cf7b42",
   "metadata": {},
   "outputs": [
    {
     "data": {
      "text/plain": [
       "array([[ True,  True,  True,  True,  True],\n",
       "       [ True,  True,  True,  True,  True],\n",
       "       [ True,  True,  True, False,  True],\n",
       "       [ True,  True,  True,  True,  True],\n",
       "       [ True,  True,  True,  True,  True]])"
      ]
     },
     "execution_count": 115,
     "metadata": {},
     "output_type": "execute_result"
    }
   ],
   "source": [
    "arr>10"
   ]
  },
  {
   "cell_type": "code",
   "execution_count": 116,
   "id": "97a9c510",
   "metadata": {},
   "outputs": [
    {
     "data": {
      "text/plain": [
       "array([[False,  True,  True,  True, False],\n",
       "       [False,  True,  True,  True, False],\n",
       "       [ True, False,  True, False,  True],\n",
       "       [False,  True, False, False,  True],\n",
       "       [ True, False,  True,  True,  True]])"
      ]
     },
     "execution_count": 116,
     "metadata": {},
     "output_type": "execute_result"
    }
   ],
   "source": [
    "arr>50"
   ]
  },
  {
   "cell_type": "code",
   "execution_count": 117,
   "id": "825df319",
   "metadata": {},
   "outputs": [
    {
     "data": {
      "text/plain": [
       "array([21, 97, 54, 83, 50, 11, 71, 62, 87, 13, 99, 26, 94, 69, 24, 70, 14,\n",
       "       28, 52, 71, 21, 88, 57, 57])"
      ]
     },
     "execution_count": 117,
     "metadata": {},
     "output_type": "execute_result"
    }
   ],
   "source": [
    "arr[arr>10]"
   ]
  },
  {
   "cell_type": "code",
   "execution_count": 118,
   "id": "f35308a6",
   "metadata": {},
   "outputs": [
    {
     "data": {
      "text/plain": [
       "array([97, 54, 83, 71, 62, 87, 99, 94, 69, 70, 52, 71, 88, 57, 57])"
      ]
     },
     "execution_count": 118,
     "metadata": {},
     "output_type": "execute_result"
    }
   ],
   "source": [
    "arr[arr>50]"
   ]
  },
  {
   "cell_type": "code",
   "execution_count": 119,
   "id": "5d5de47f",
   "metadata": {},
   "outputs": [
    {
     "data": {
      "text/plain": [
       "array([97, 83, 87, 99, 94, 88])"
      ]
     },
     "execution_count": 119,
     "metadata": {},
     "output_type": "execute_result"
    }
   ],
   "source": [
    "arr[arr>80]"
   ]
  },
  {
   "cell_type": "code",
   "execution_count": 120,
   "id": "099cccdc",
   "metadata": {},
   "outputs": [],
   "source": [
    "arr1 = np.random.randint(500,20000,(3,3))"
   ]
  },
  {
   "cell_type": "code",
   "execution_count": 121,
   "id": "4a9faf0f",
   "metadata": {},
   "outputs": [
    {
     "data": {
      "text/plain": [
       "array([[17022, 10870,   739],\n",
       "       [ 2569,   702,  7332],\n",
       "       [ 4432,  8381, 11322]])"
      ]
     },
     "execution_count": 121,
     "metadata": {},
     "output_type": "execute_result"
    }
   ],
   "source": [
    "arr1"
   ]
  },
  {
   "cell_type": "code",
   "execution_count": 123,
   "id": "b47d3ef5",
   "metadata": {},
   "outputs": [
    {
     "data": {
      "text/plain": [
       "array([17022, 10870, 11322])"
      ]
     },
     "execution_count": 123,
     "metadata": {},
     "output_type": "execute_result"
    }
   ],
   "source": [
    "arr1[arr1>10000]"
   ]
  },
  {
   "cell_type": "code",
   "execution_count": 124,
   "id": "10453b42",
   "metadata": {},
   "outputs": [
    {
     "data": {
      "text/plain": [
       "array([[ True,  True, False],\n",
       "       [False, False, False],\n",
       "       [False, False,  True]])"
      ]
     },
     "execution_count": 124,
     "metadata": {},
     "output_type": "execute_result"
    }
   ],
   "source": [
    "arr1>10000"
   ]
  },
  {
   "cell_type": "code",
   "execution_count": 125,
   "id": "86838fff",
   "metadata": {},
   "outputs": [
    {
     "data": {
      "text/plain": [
       "array([[21, 97, 54, 83, 50],\n",
       "       [11, 71, 62, 87, 13],\n",
       "       [99, 26, 94, 10, 69],\n",
       "       [24, 70, 14, 28, 52],\n",
       "       [71, 21, 88, 57, 57]])"
      ]
     },
     "execution_count": 125,
     "metadata": {},
     "output_type": "execute_result"
    }
   ],
   "source": [
    "arr"
   ]
  },
  {
   "cell_type": "code",
   "execution_count": 126,
   "id": "a1393af3",
   "metadata": {},
   "outputs": [
    {
     "data": {
      "text/plain": [
       "array([[ 441, 9409, 2916, 6889, 2500],\n",
       "       [ 121, 5041, 3844, 7569,  169],\n",
       "       [9801,  676, 8836,  100, 4761],\n",
       "       [ 576, 4900,  196,  784, 2704],\n",
       "       [5041,  441, 7744, 3249, 3249]])"
      ]
     },
     "execution_count": 126,
     "metadata": {},
     "output_type": "execute_result"
    }
   ],
   "source": [
    "arr * arr"
   ]
  },
  {
   "cell_type": "code",
   "execution_count": 127,
   "id": "b15660d3",
   "metadata": {},
   "outputs": [
    {
     "data": {
      "text/plain": [
       "array([[ 42, 194, 108, 166, 100],\n",
       "       [ 22, 142, 124, 174,  26],\n",
       "       [198,  52, 188,  20, 138],\n",
       "       [ 48, 140,  28,  56, 104],\n",
       "       [142,  42, 176, 114, 114]])"
      ]
     },
     "execution_count": 127,
     "metadata": {},
     "output_type": "execute_result"
    }
   ],
   "source": [
    "arr + arr"
   ]
  },
  {
   "cell_type": "code",
   "execution_count": 128,
   "id": "a6107862",
   "metadata": {},
   "outputs": [
    {
     "data": {
      "text/plain": [
       "array([[0, 0, 0, 0, 0],\n",
       "       [0, 0, 0, 0, 0],\n",
       "       [0, 0, 0, 0, 0],\n",
       "       [0, 0, 0, 0, 0],\n",
       "       [0, 0, 0, 0, 0]])"
      ]
     },
     "execution_count": 128,
     "metadata": {},
     "output_type": "execute_result"
    }
   ],
   "source": [
    "arr - arr"
   ]
  },
  {
   "cell_type": "code",
   "execution_count": 130,
   "id": "39e6eb5e",
   "metadata": {},
   "outputs": [
    {
     "ename": "ValueError",
     "evalue": "operands could not be broadcast together with shapes (5,5) (3,3) ",
     "output_type": "error",
     "traceback": [
      "\u001b[1;31m---------------------------------------------------------------------------\u001b[0m",
      "\u001b[1;31mValueError\u001b[0m                                Traceback (most recent call last)",
      "\u001b[1;32m~\\AppData\\Local\\Temp/ipykernel_8564/436184953.py\u001b[0m in \u001b[0;36m<module>\u001b[1;34m\u001b[0m\n\u001b[1;32m----> 1\u001b[1;33m \u001b[0marr\u001b[0m \u001b[1;33m-\u001b[0m \u001b[0marr1\u001b[0m\u001b[1;33m\u001b[0m\u001b[1;33m\u001b[0m\u001b[0m\n\u001b[0m",
      "\u001b[1;31mValueError\u001b[0m: operands could not be broadcast together with shapes (5,5) (3,3) "
     ]
    }
   ],
   "source": [
    "arr - arr1"
   ]
  },
  {
   "cell_type": "code",
   "execution_count": 131,
   "id": "57ef0670",
   "metadata": {},
   "outputs": [
    {
     "data": {
      "text/plain": [
       "array([[1., 1., 1., 1., 1.],\n",
       "       [1., 1., 1., 1., 1.],\n",
       "       [1., 1., 1., 1., 1.],\n",
       "       [1., 1., 1., 1., 1.],\n",
       "       [1., 1., 1., 1., 1.]])"
      ]
     },
     "execution_count": 131,
     "metadata": {},
     "output_type": "execute_result"
    }
   ],
   "source": [
    "arr / arr"
   ]
  },
  {
   "cell_type": "code",
   "execution_count": 132,
   "id": "f4002731",
   "metadata": {},
   "outputs": [],
   "source": [
    "arr2 = np.random.randint(2,10,(3,3))"
   ]
  },
  {
   "cell_type": "code",
   "execution_count": 133,
   "id": "4ea4e8ef",
   "metadata": {},
   "outputs": [],
   "source": [
    "arr3 = np.random.randint(2,10,(3,3))"
   ]
  },
  {
   "cell_type": "code",
   "execution_count": 134,
   "id": "19caed55",
   "metadata": {},
   "outputs": [
    {
     "data": {
      "text/plain": [
       "array([[3, 3, 8],\n",
       "       [4, 6, 4],\n",
       "       [5, 8, 9]])"
      ]
     },
     "execution_count": 134,
     "metadata": {},
     "output_type": "execute_result"
    }
   ],
   "source": [
    "arr2"
   ]
  },
  {
   "cell_type": "code",
   "execution_count": 135,
   "id": "e1e37968",
   "metadata": {},
   "outputs": [
    {
     "data": {
      "text/plain": [
       "array([[5, 3, 2],\n",
       "       [6, 2, 9],\n",
       "       [8, 7, 9]])"
      ]
     },
     "execution_count": 135,
     "metadata": {},
     "output_type": "execute_result"
    }
   ],
   "source": [
    "arr3"
   ]
  },
  {
   "cell_type": "code",
   "execution_count": 136,
   "id": "f4e0858c",
   "metadata": {},
   "outputs": [
    {
     "data": {
      "text/plain": [
       "array([[15,  9, 16],\n",
       "       [24, 12, 36],\n",
       "       [40, 56, 81]])"
      ]
     },
     "execution_count": 136,
     "metadata": {},
     "output_type": "execute_result"
    }
   ],
   "source": [
    "arr2*arr3"
   ]
  },
  {
   "cell_type": "code",
   "execution_count": 137,
   "id": "5e87b958",
   "metadata": {},
   "outputs": [
    {
     "data": {
      "text/plain": [
       "array([[ 97,  71, 105],\n",
       "       [ 88,  52,  98],\n",
       "       [145,  94, 163]])"
      ]
     },
     "execution_count": 137,
     "metadata": {},
     "output_type": "execute_result"
    }
   ],
   "source": [
    "arr2@arr3"
   ]
  },
  {
   "cell_type": "code",
   "execution_count": 138,
   "id": "62e079f9",
   "metadata": {},
   "outputs": [
    {
     "ename": "ValueError",
     "evalue": "matmul: Input operand 1 has a mismatch in its core dimension 0, with gufunc signature (n?,k),(k,m?)->(n?,m?) (size 3 is different from 5)",
     "output_type": "error",
     "traceback": [
      "\u001b[1;31m---------------------------------------------------------------------------\u001b[0m",
      "\u001b[1;31mValueError\u001b[0m                                Traceback (most recent call last)",
      "\u001b[1;32m~\\AppData\\Local\\Temp/ipykernel_8564/2871263013.py\u001b[0m in \u001b[0;36m<module>\u001b[1;34m\u001b[0m\n\u001b[1;32m----> 1\u001b[1;33m \u001b[0marr\u001b[0m\u001b[1;33m@\u001b[0m\u001b[0marr2\u001b[0m\u001b[1;33m\u001b[0m\u001b[1;33m\u001b[0m\u001b[0m\n\u001b[0m",
      "\u001b[1;31mValueError\u001b[0m: matmul: Input operand 1 has a mismatch in its core dimension 0, with gufunc signature (n?,k),(k,m?)->(n?,m?) (size 3 is different from 5)"
     ]
    }
   ],
   "source": [
    "arr@arr2"
   ]
  },
  {
   "cell_type": "code",
   "execution_count": 139,
   "id": "4dcee513",
   "metadata": {},
   "outputs": [
    {
     "name": "stderr",
     "output_type": "stream",
     "text": [
      "C:\\Users\\syedf\\AppData\\Local\\Temp/ipykernel_8564/4133987296.py:1: RuntimeWarning: divide by zero encountered in true_divide\n",
      "  arr2/0\n"
     ]
    },
    {
     "data": {
      "text/plain": [
       "array([[inf, inf, inf],\n",
       "       [inf, inf, inf],\n",
       "       [inf, inf, inf]])"
      ]
     },
     "execution_count": 139,
     "metadata": {},
     "output_type": "execute_result"
    }
   ],
   "source": [
    "arr2/0"
   ]
  },
  {
   "cell_type": "code",
   "execution_count": 140,
   "id": "16b3bbac",
   "metadata": {},
   "outputs": [
    {
     "data": {
      "text/plain": [
       "array([[ 9,  9, 64],\n",
       "       [16, 36, 16],\n",
       "       [25, 64, 81]], dtype=int32)"
      ]
     },
     "execution_count": 140,
     "metadata": {},
     "output_type": "execute_result"
    }
   ],
   "source": [
    "arr2**2"
   ]
  },
  {
   "cell_type": "code",
   "execution_count": 141,
   "id": "28c7d4e7",
   "metadata": {},
   "outputs": [],
   "source": [
    "arr4 = np.zeros((3,4))"
   ]
  },
  {
   "cell_type": "code",
   "execution_count": 142,
   "id": "63ceb1d4",
   "metadata": {},
   "outputs": [
    {
     "data": {
      "text/plain": [
       "array([[0., 0., 0., 0.],\n",
       "       [0., 0., 0., 0.],\n",
       "       [0., 0., 0., 0.]])"
      ]
     },
     "execution_count": 142,
     "metadata": {},
     "output_type": "execute_result"
    }
   ],
   "source": [
    "arr4"
   ]
  },
  {
   "cell_type": "code",
   "execution_count": 147,
   "id": "0f6b3001",
   "metadata": {},
   "outputs": [],
   "source": [
    "a = np.array([1,2,3,4])"
   ]
  },
  {
   "cell_type": "code",
   "execution_count": 148,
   "id": "6623620b",
   "metadata": {},
   "outputs": [
    {
     "data": {
      "text/plain": [
       "array([1, 2, 3, 4])"
      ]
     },
     "execution_count": 148,
     "metadata": {},
     "output_type": "execute_result"
    }
   ],
   "source": [
    "a"
   ]
  },
  {
   "cell_type": "code",
   "execution_count": 149,
   "id": "7f623863",
   "metadata": {},
   "outputs": [
    {
     "data": {
      "text/plain": [
       "array([[1., 2., 3., 4.],\n",
       "       [1., 2., 3., 4.],\n",
       "       [1., 2., 3., 4.]])"
      ]
     },
     "execution_count": 149,
     "metadata": {},
     "output_type": "execute_result"
    }
   ],
   "source": [
    "arr4 + a"
   ]
  },
  {
   "cell_type": "code",
   "execution_count": 150,
   "id": "7c6d8ee5",
   "metadata": {},
   "outputs": [],
   "source": [
    "b = np.array([1,6,7])"
   ]
  },
  {
   "cell_type": "code",
   "execution_count": 151,
   "id": "0ef27377",
   "metadata": {},
   "outputs": [
    {
     "data": {
      "text/plain": [
       "array([1, 6, 7])"
      ]
     },
     "execution_count": 151,
     "metadata": {},
     "output_type": "execute_result"
    }
   ],
   "source": [
    "b"
   ]
  },
  {
   "cell_type": "code",
   "execution_count": 152,
   "id": "e227228f",
   "metadata": {},
   "outputs": [
    {
     "data": {
      "text/plain": [
       "array([1, 6, 7])"
      ]
     },
     "execution_count": 152,
     "metadata": {},
     "output_type": "execute_result"
    }
   ],
   "source": [
    "b.T"
   ]
  },
  {
   "cell_type": "code",
   "execution_count": 156,
   "id": "b65661b4",
   "metadata": {},
   "outputs": [
    {
     "ename": "ValueError",
     "evalue": "operands could not be broadcast together with shapes (3,) (3,4) ",
     "output_type": "error",
     "traceback": [
      "\u001b[1;31m---------------------------------------------------------------------------\u001b[0m",
      "\u001b[1;31mValueError\u001b[0m                                Traceback (most recent call last)",
      "\u001b[1;32m~\\AppData\\Local\\Temp/ipykernel_8564/1115907446.py\u001b[0m in \u001b[0;36m<module>\u001b[1;34m\u001b[0m\n\u001b[1;32m----> 1\u001b[1;33m \u001b[0mb\u001b[0m\u001b[1;33m.\u001b[0m\u001b[0mT\u001b[0m \u001b[1;33m+\u001b[0m \u001b[0marr4\u001b[0m\u001b[1;33m\u001b[0m\u001b[1;33m\u001b[0m\u001b[0m\n\u001b[0m",
      "\u001b[1;31mValueError\u001b[0m: operands could not be broadcast together with shapes (3,) (3,4) "
     ]
    }
   ],
   "source": [
    "b.T + arr4"
   ]
  },
  {
   "cell_type": "code",
   "execution_count": 157,
   "id": "2b125557",
   "metadata": {},
   "outputs": [
    {
     "ename": "TypeError",
     "evalue": "unsupported operand type(s) for +: 'builtin_function_or_method' and 'float'",
     "output_type": "error",
     "traceback": [
      "\u001b[1;31m---------------------------------------------------------------------------\u001b[0m",
      "\u001b[1;31mTypeError\u001b[0m                                 Traceback (most recent call last)",
      "\u001b[1;32m~\\AppData\\Local\\Temp/ipykernel_8564/1094698618.py\u001b[0m in \u001b[0;36m<module>\u001b[1;34m\u001b[0m\n\u001b[1;32m----> 1\u001b[1;33m \u001b[0mb\u001b[0m\u001b[1;33m.\u001b[0m\u001b[0mtranspose\u001b[0m \u001b[1;33m+\u001b[0m \u001b[0marr4\u001b[0m\u001b[1;33m\u001b[0m\u001b[1;33m\u001b[0m\u001b[0m\n\u001b[0m",
      "\u001b[1;31mTypeError\u001b[0m: unsupported operand type(s) for +: 'builtin_function_or_method' and 'float'"
     ]
    }
   ],
   "source": [
    "b.transpose + arr4"
   ]
  },
  {
   "cell_type": "code",
   "execution_count": null,
   "id": "4c7dd3ad",
   "metadata": {},
   "outputs": [],
   "source": []
  },
  {
   "cell_type": "code",
   "execution_count": 153,
   "id": "07203458",
   "metadata": {},
   "outputs": [],
   "source": [
    "c = np.array([[1,6,7]])"
   ]
  },
  {
   "cell_type": "code",
   "execution_count": 154,
   "id": "4631394b",
   "metadata": {},
   "outputs": [
    {
     "data": {
      "text/plain": [
       "array([[1, 6, 7]])"
      ]
     },
     "execution_count": 154,
     "metadata": {},
     "output_type": "execute_result"
    }
   ],
   "source": [
    "c"
   ]
  },
  {
   "cell_type": "code",
   "execution_count": 155,
   "id": "7e3227ca",
   "metadata": {},
   "outputs": [
    {
     "data": {
      "text/plain": [
       "array([[1],\n",
       "       [6],\n",
       "       [7]])"
      ]
     },
     "execution_count": 155,
     "metadata": {},
     "output_type": "execute_result"
    }
   ],
   "source": [
    "c.T"
   ]
  },
  {
   "cell_type": "code",
   "execution_count": 158,
   "id": "9623b5fb",
   "metadata": {},
   "outputs": [
    {
     "data": {
      "text/plain": [
       "array([[1., 1., 1., 1.],\n",
       "       [6., 6., 6., 6.],\n",
       "       [7., 7., 7., 7.]])"
      ]
     },
     "execution_count": 158,
     "metadata": {},
     "output_type": "execute_result"
    }
   ],
   "source": [
    "c.T + arr4"
   ]
  },
  {
   "cell_type": "code",
   "execution_count": 159,
   "id": "3f7b768c",
   "metadata": {},
   "outputs": [
    {
     "data": {
      "text/plain": [
       "array([[1., 1., 1., 1.],\n",
       "       [6., 6., 6., 6.],\n",
       "       [7., 7., 7., 7.]])"
      ]
     },
     "execution_count": 159,
     "metadata": {},
     "output_type": "execute_result"
    }
   ],
   "source": [
    "c.T + arr4"
   ]
  },
  {
   "cell_type": "code",
   "execution_count": 160,
   "id": "d3f60b24",
   "metadata": {},
   "outputs": [
    {
     "ename": "ValueError",
     "evalue": "operands could not be broadcast together with shapes (1,3) (3,4) ",
     "output_type": "error",
     "traceback": [
      "\u001b[1;31m---------------------------------------------------------------------------\u001b[0m",
      "\u001b[1;31mValueError\u001b[0m                                Traceback (most recent call last)",
      "\u001b[1;32m~\\AppData\\Local\\Temp/ipykernel_8564/2783197682.py\u001b[0m in \u001b[0;36m<module>\u001b[1;34m\u001b[0m\n\u001b[1;32m----> 1\u001b[1;33m \u001b[0mc\u001b[0m \u001b[1;33m+\u001b[0m \u001b[0marr4\u001b[0m\u001b[1;33m\u001b[0m\u001b[1;33m\u001b[0m\u001b[0m\n\u001b[0m",
      "\u001b[1;31mValueError\u001b[0m: operands could not be broadcast together with shapes (1,3) (3,4) "
     ]
    }
   ],
   "source": [
    "c + arr4"
   ]
  },
  {
   "cell_type": "code",
   "execution_count": 161,
   "id": "83570fad",
   "metadata": {},
   "outputs": [],
   "source": [
    "arr5 = np.random.rand(3,4)"
   ]
  },
  {
   "cell_type": "code",
   "execution_count": 162,
   "id": "a63c9018",
   "metadata": {},
   "outputs": [
    {
     "data": {
      "text/plain": [
       "array([[0.5031142 , 0.38461804, 0.37203714, 0.3615076 ],\n",
       "       [0.11646867, 0.38810705, 0.32460492, 0.38507324],\n",
       "       [0.14348027, 0.10846325, 0.52435661, 0.02616057]])"
      ]
     },
     "execution_count": 162,
     "metadata": {},
     "output_type": "execute_result"
    }
   ],
   "source": [
    "arr5"
   ]
  },
  {
   "cell_type": "code",
   "execution_count": 163,
   "id": "2d81927b",
   "metadata": {},
   "outputs": [
    {
     "data": {
      "text/plain": [
       "array([[0.70930543, 0.62017581, 0.60994848, 0.60125502],\n",
       "       [0.34127506, 0.62298238, 0.5697411 , 0.6205427 ],\n",
       "       [0.3787879 , 0.32933759, 0.72412472, 0.16174229]])"
      ]
     },
     "execution_count": 163,
     "metadata": {},
     "output_type": "execute_result"
    }
   ],
   "source": [
    "np.sqrt(arr5)"
   ]
  },
  {
   "cell_type": "code",
   "execution_count": 164,
   "id": "55c36a29",
   "metadata": {},
   "outputs": [
    {
     "data": {
      "text/plain": [
       "array([[0.25312389, 0.14793104, 0.13841164, 0.13068775],\n",
       "       [0.01356495, 0.15062708, 0.10536835, 0.1482814 ],\n",
       "       [0.02058659, 0.01176428, 0.27494985, 0.00068438]])"
      ]
     },
     "execution_count": 164,
     "metadata": {},
     "output_type": "execute_result"
    }
   ],
   "source": [
    "np.square(arr5)"
   ]
  },
  {
   "cell_type": "code",
   "execution_count": 165,
   "id": "b9d5d9c1",
   "metadata": {},
   "outputs": [
    {
     "data": {
      "text/plain": [
       "2.23606797749979"
      ]
     },
     "execution_count": 165,
     "metadata": {},
     "output_type": "execute_result"
    }
   ],
   "source": [
    "np.sqrt(5)"
   ]
  },
  {
   "cell_type": "code",
   "execution_count": 166,
   "id": "a20a657b",
   "metadata": {},
   "outputs": [
    {
     "data": {
      "text/plain": [
       "25"
      ]
     },
     "execution_count": 166,
     "metadata": {},
     "output_type": "execute_result"
    }
   ],
   "source": [
    "np.square(5)"
   ]
  },
  {
   "cell_type": "code",
   "execution_count": 167,
   "id": "a07b3a79",
   "metadata": {},
   "outputs": [
    {
     "data": {
      "text/plain": [
       "array([[1.65386371, 1.46905309, 1.45068686, 1.43549193],\n",
       "       [1.12352231, 1.47418758, 1.38348395, 1.46972196],\n",
       "       [1.15428404, 1.11456394, 1.68937157, 1.02650576]])"
      ]
     },
     "execution_count": 167,
     "metadata": {},
     "output_type": "execute_result"
    }
   ],
   "source": [
    "np.exp(arr5)"
   ]
  },
  {
   "cell_type": "code",
   "execution_count": 168,
   "id": "3a46cded",
   "metadata": {},
   "outputs": [
    {
     "data": {
      "text/plain": [
       "array([[-0.29833343, -0.41497035, -0.4294137 , -0.44188257],\n",
       "       [-0.9337909 , -0.41104847, -0.48864491, -0.41445666],\n",
       "       [-0.84320781, -0.9647174 , -0.28037325, -1.58235282]])"
      ]
     },
     "execution_count": 168,
     "metadata": {},
     "output_type": "execute_result"
    }
   ],
   "source": [
    "np.log10(arr5)"
   ]
  },
  {
   "cell_type": "code",
   "execution_count": 169,
   "id": "b3e44fb9",
   "metadata": {},
   "outputs": [],
   "source": [
    "arr6 = np.random.randint(2,8,(4,4))"
   ]
  },
  {
   "cell_type": "code",
   "execution_count": 170,
   "id": "2725e0e8",
   "metadata": {},
   "outputs": [
    {
     "data": {
      "text/plain": [
       "array([[0.60205999, 0.77815125, 0.69897   , 0.84509804],\n",
       "       [0.30103   , 0.47712125, 0.60205999, 0.30103   ],\n",
       "       [0.69897   , 0.84509804, 0.47712125, 0.60205999],\n",
       "       [0.30103   , 0.30103   , 0.30103   , 0.47712125]])"
      ]
     },
     "execution_count": 170,
     "metadata": {},
     "output_type": "execute_result"
    }
   ],
   "source": [
    "np.log10(arr6)"
   ]
  },
  {
   "cell_type": "code",
   "execution_count": 171,
   "id": "6fc618a0",
   "metadata": {},
   "outputs": [
    {
     "data": {
      "text/plain": [
       "array([[4, 6, 5, 7],\n",
       "       [2, 3, 4, 2],\n",
       "       [5, 7, 3, 4],\n",
       "       [2, 2, 2, 3]])"
      ]
     },
     "execution_count": 171,
     "metadata": {},
     "output_type": "execute_result"
    }
   ],
   "source": [
    "arr6"
   ]
  },
  {
   "cell_type": "code",
   "execution_count": 172,
   "id": "4cb18b8b",
   "metadata": {},
   "outputs": [
    {
     "data": {
      "text/plain": [
       "array([[1.38629436, 1.79175947, 1.60943791, 1.94591015],\n",
       "       [0.69314718, 1.09861229, 1.38629436, 0.69314718],\n",
       "       [1.60943791, 1.94591015, 1.09861229, 1.38629436],\n",
       "       [0.69314718, 0.69314718, 0.69314718, 1.09861229]])"
      ]
     },
     "execution_count": 172,
     "metadata": {},
     "output_type": "execute_result"
    }
   ],
   "source": [
    "np.log(arr6)"
   ]
  },
  {
   "cell_type": "code",
   "execution_count": 173,
   "id": "7a48b53e",
   "metadata": {},
   "outputs": [
    {
     "data": {
      "text/plain": [
       "array([[2.        , 2.5849625 , 2.32192809, 2.80735492],\n",
       "       [1.        , 1.5849625 , 2.        , 1.        ],\n",
       "       [2.32192809, 2.80735492, 1.5849625 , 2.        ],\n",
       "       [1.        , 1.        , 1.        , 1.5849625 ]])"
      ]
     },
     "execution_count": 173,
     "metadata": {},
     "output_type": "execute_result"
    }
   ],
   "source": [
    "np.log2(arr6)"
   ]
  },
  {
   "cell_type": "code",
   "execution_count": 174,
   "id": "8cddfea2",
   "metadata": {},
   "outputs": [],
   "source": [
    "np.random.seed(15)"
   ]
  },
  {
   "cell_type": "code",
   "execution_count": 178,
   "id": "2e005154",
   "metadata": {},
   "outputs": [
    {
     "data": {
      "text/plain": [
       "array([[0.71777369, 0.86571503, 0.80707948, 0.21055058]])"
      ]
     },
     "execution_count": 178,
     "metadata": {},
     "output_type": "execute_result"
    }
   ],
   "source": [
    "np.random.rand(1,4)"
   ]
  },
  {
   "cell_type": "code",
   "execution_count": 181,
   "id": "e608cde6",
   "metadata": {},
   "outputs": [
    {
     "data": {
      "text/plain": [
       "array([[0.8488177 , 0.17889592, 0.05436321, 0.36153845]])"
      ]
     },
     "execution_count": 181,
     "metadata": {},
     "output_type": "execute_result"
    }
   ],
   "source": [
    "np.random.seed(15)\n",
    "np.random.rand(1,4)"
   ]
  },
  {
   "cell_type": "code",
   "execution_count": 183,
   "id": "634d989f",
   "metadata": {},
   "outputs": [
    {
     "data": {
      "text/plain": [
       "array([[0.09310829, 0.97165592, 0.48385998, 0.2425227 ]])"
      ]
     },
     "execution_count": 183,
     "metadata": {},
     "output_type": "execute_result"
    }
   ],
   "source": [
    "np.random.seed(55)\n",
    "np.random.rand(1,4)"
   ]
  },
  {
   "cell_type": "markdown",
   "id": "4e5b532a",
   "metadata": {},
   "source": [
    "# Till now END \n",
    "But keep practicing"
   ]
  }
 ],
 "metadata": {
  "kernelspec": {
   "display_name": "Python 3 (ipykernel)",
   "language": "python",
   "name": "python3"
  },
  "language_info": {
   "codemirror_mode": {
    "name": "ipython",
    "version": 3
   },
   "file_extension": ".py",
   "mimetype": "text/x-python",
   "name": "python",
   "nbconvert_exporter": "python",
   "pygments_lexer": "ipython3",
   "version": "3.9.7"
  }
 },
 "nbformat": 4,
 "nbformat_minor": 5
}
